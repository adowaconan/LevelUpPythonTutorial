{
  "nbformat": 4,
  "nbformat_minor": 0,
  "metadata": {
    "colab": {
      "name": "1.3. Numpy: numerical computation.ipynb",
      "version": "0.3.2",
      "provenance": [],
      "collapsed_sections": [],
      "toc_visible": true,
      "include_colab_link": true
    },
    "kernelspec": {
      "name": "python3",
      "display_name": "Python 3"
    }
  },
  "cells": [
    {
      "cell_type": "markdown",
      "metadata": {
        "id": "view-in-github",
        "colab_type": "text"
      },
      "source": [
        "<a href=\"https://colab.research.google.com/github/adowaconan/LevelUpPythonTutorial/blob/master/1_3_Numpy_numerical_computation.ipynb\" target=\"_parent\"><img src=\"https://colab.research.google.com/assets/colab-badge.svg\" alt=\"Open In Colab\"/></a>"
      ]
    },
    {
      "metadata": {
        "id": "DYyb3wPIimZ3",
        "colab_type": "text"
      },
      "cell_type": "markdown",
      "source": [
        "# Numpy makes most of the work in Python much easier than dealing with lists, tuples, and sets. "
      ]
    },
    {
      "metadata": {
        "id": "YVqL5-rLibJG",
        "colab_type": "code",
        "colab": {}
      },
      "cell_type": "code",
      "source": [
        "import numpy as np\n",
        "from matplotlib import pyplot as plt # just to visualize the arrays, will be introduced later"
      ],
      "execution_count": 0,
      "outputs": []
    },
    {
      "metadata": {
        "id": "U3URb5RhjIGo",
        "colab_type": "code",
        "outputId": "d84331fc-a6ae-4965-dc97-83147a18f7ae",
        "colab": {
          "base_uri": "https://localhost:8080/",
          "height": 34
        }
      },
      "cell_type": "code",
      "source": [
        "complex_list = [[ 0,  1,  2,  3,  4],\n",
        "                [ 5,  6,  7,  8,  9],\n",
        "                [10, 11, 12, 13, 14]]\n",
        "print(complex_list)"
      ],
      "execution_count": 0,
      "outputs": [
        {
          "output_type": "stream",
          "text": [
            "[[0, 1, 2, 3, 4], [5, 6, 7, 8, 9], [10, 11, 12, 13, 14]]\n"
          ],
          "name": "stdout"
        }
      ]
    },
    {
      "metadata": {
        "id": "BYBNRM7ljTz-",
        "colab_type": "code",
        "outputId": "b3976357-875e-4b8e-bdfb-33f084051715",
        "colab": {
          "base_uri": "https://localhost:8080/",
          "height": 68
        }
      },
      "cell_type": "code",
      "source": [
        "complex_array = np.arange(15).reshape(3, 5)\n",
        "print(complex_array)"
      ],
      "execution_count": 0,
      "outputs": [
        {
          "output_type": "stream",
          "text": [
            "[[ 0  1  2  3  4]\n",
            " [ 5  6  7  8  9]\n",
            " [10 11 12 13 14]]\n"
          ],
          "name": "stdout"
        }
      ]
    },
    {
      "metadata": {
        "id": "WcWIvPXIjaQ-",
        "colab_type": "code",
        "outputId": "50049770-99ac-4b9d-8576-f608c65d0766",
        "colab": {
          "base_uri": "https://localhost:8080/",
          "height": 34
        }
      },
      "cell_type": "code",
      "source": [
        "complex_array.shape # 3 rows and 5 columns"
      ],
      "execution_count": 0,
      "outputs": [
        {
          "output_type": "execute_result",
          "data": {
            "text/plain": [
              "(3, 5)"
            ]
          },
          "metadata": {
            "tags": []
          },
          "execution_count": 6
        }
      ]
    },
    {
      "metadata": {
        "id": "9tb3t-KOjcXW",
        "colab_type": "code",
        "outputId": "3071dafe-aea3-4f38-838e-ffe4f44bd160",
        "colab": {
          "base_uri": "https://localhost:8080/",
          "height": 34
        }
      },
      "cell_type": "code",
      "source": [
        "complex_array.ndim"
      ],
      "execution_count": 0,
      "outputs": [
        {
          "output_type": "execute_result",
          "data": {
            "text/plain": [
              "2"
            ]
          },
          "metadata": {
            "tags": []
          },
          "execution_count": 7
        }
      ]
    },
    {
      "metadata": {
        "id": "NdUiyArojeHI",
        "colab_type": "code",
        "outputId": "66e85a80-35ec-4697-fd5c-5d54a426520b",
        "colab": {
          "base_uri": "https://localhost:8080/",
          "height": 34
        }
      },
      "cell_type": "code",
      "source": [
        "type(complex_array)"
      ],
      "execution_count": 0,
      "outputs": [
        {
          "output_type": "execute_result",
          "data": {
            "text/plain": [
              "numpy.ndarray"
            ]
          },
          "metadata": {
            "tags": []
          },
          "execution_count": 8
        }
      ]
    },
    {
      "metadata": {
        "id": "ZAMMKokXjk98",
        "colab_type": "text"
      },
      "cell_type": "markdown",
      "source": [
        "# convert lists to arrays"
      ]
    },
    {
      "metadata": {
        "id": "sUO9j_rRjgHu",
        "colab_type": "code",
        "outputId": "fec9e671-7497-4f6b-ce1e-c575cf567c5b",
        "colab": {
          "base_uri": "https://localhost:8080/",
          "height": 102
        }
      },
      "cell_type": "code",
      "source": [
        "a = [1,2,3]\n",
        "print(a)\n",
        "print(type(a)) # type of class\n",
        "b = np.array(a)\n",
        "print(b)\n",
        "print(type(b)) # type of class\n",
        "print(b.dtype) # tyep of the data in the class"
      ],
      "execution_count": 0,
      "outputs": [
        {
          "output_type": "stream",
          "text": [
            "[1, 2, 3]\n",
            "<class 'list'>\n",
            "[1 2 3]\n",
            "<class 'numpy.ndarray'>\n",
            "int64\n"
          ],
          "name": "stdout"
        }
      ]
    },
    {
      "metadata": {
        "id": "GrS2oRx4jvBL",
        "colab_type": "code",
        "outputId": "03da491a-d832-43a2-f6aa-7beb46cdeea3",
        "colab": {
          "base_uri": "https://localhost:8080/",
          "height": 102
        }
      },
      "cell_type": "code",
      "source": [
        "a = [1.0,2,3]\n",
        "print(a)\n",
        "print(type(a))\n",
        "b = np.array(a)\n",
        "print(b)\n",
        "print(type(b))\n",
        "print(b.dtype)"
      ],
      "execution_count": 0,
      "outputs": [
        {
          "output_type": "stream",
          "text": [
            "[1.0, 2, 3]\n",
            "<class 'list'>\n",
            "[1. 2. 3.]\n",
            "<class 'numpy.ndarray'>\n",
            "float64\n"
          ],
          "name": "stdout"
        }
      ]
    },
    {
      "metadata": {
        "id": "SbGHf0lCjyLf",
        "colab_type": "code",
        "outputId": "7beefbee-a115-48fa-bea3-00621b4558ad",
        "colab": {
          "base_uri": "https://localhost:8080/",
          "height": 102
        }
      },
      "cell_type": "code",
      "source": [
        "a = [1.0,2,3]\n",
        "print(a)\n",
        "print(type(a))\n",
        "b = np.array(a).astype(int)\n",
        "print(b)\n",
        "print(type(b))\n",
        "print(b.dtype)"
      ],
      "execution_count": 0,
      "outputs": [
        {
          "output_type": "stream",
          "text": [
            "[1.0, 2, 3]\n",
            "<class 'list'>\n",
            "[1 2 3]\n",
            "<class 'numpy.ndarray'>\n",
            "int64\n"
          ],
          "name": "stdout"
        }
      ]
    },
    {
      "metadata": {
        "id": "wW-w-cGAj-TI",
        "colab_type": "text"
      },
      "cell_type": "markdown",
      "source": [
        "# Something we do in Matlab: create zeros, ones, eyes, but only in numpy can we create empty containers"
      ]
    },
    {
      "metadata": {
        "id": "-SkOHAokj3fB",
        "colab_type": "code",
        "outputId": "e44b03a5-c824-44b9-a27a-b7f5dfdb7126",
        "colab": {
          "base_uri": "https://localhost:8080/",
          "height": 51
        }
      },
      "cell_type": "code",
      "source": [
        "np.zeros((2,5))"
      ],
      "execution_count": 0,
      "outputs": [
        {
          "output_type": "execute_result",
          "data": {
            "text/plain": [
              "array([[0., 0., 0., 0., 0.],\n",
              "       [0., 0., 0., 0., 0.]])"
            ]
          },
          "metadata": {
            "tags": []
          },
          "execution_count": 12
        }
      ]
    },
    {
      "metadata": {
        "id": "lN9MptjRkKDl",
        "colab_type": "code",
        "outputId": "2f710c70-59ab-4509-8234-977e97ac7491",
        "colab": {
          "base_uri": "https://localhost:8080/",
          "height": 51
        }
      },
      "cell_type": "code",
      "source": [
        "np.ones((2,5))"
      ],
      "execution_count": 0,
      "outputs": [
        {
          "output_type": "execute_result",
          "data": {
            "text/plain": [
              "array([[1., 1., 1., 1., 1.],\n",
              "       [1., 1., 1., 1., 1.]])"
            ]
          },
          "metadata": {
            "tags": []
          },
          "execution_count": 13
        }
      ]
    },
    {
      "metadata": {
        "id": "ShxEbwmrkLmt",
        "colab_type": "code",
        "outputId": "aa0c61d1-c3f0-480e-ac77-79a86181fb9e",
        "colab": {
          "base_uri": "https://localhost:8080/",
          "height": 102
        }
      },
      "cell_type": "code",
      "source": [
        "np.eye(5)"
      ],
      "execution_count": 0,
      "outputs": [
        {
          "output_type": "execute_result",
          "data": {
            "text/plain": [
              "array([[1., 0., 0., 0., 0.],\n",
              "       [0., 1., 0., 0., 0.],\n",
              "       [0., 0., 1., 0., 0.],\n",
              "       [0., 0., 0., 1., 0.],\n",
              "       [0., 0., 0., 0., 1.]])"
            ]
          },
          "metadata": {
            "tags": []
          },
          "execution_count": 14
        }
      ]
    },
    {
      "metadata": {
        "id": "FZN6DOuBJZZ3",
        "colab_type": "text"
      },
      "cell_type": "markdown",
      "source": [
        "## Although you see that these are ones, they have no values. The ones merely fill the container/spaces"
      ]
    },
    {
      "metadata": {
        "id": "Ccadt05wkNns",
        "colab_type": "code",
        "outputId": "5a0b82a7-9ead-4ac4-f243-6b4905cfee40",
        "colab": {
          "base_uri": "https://localhost:8080/",
          "height": 51
        }
      },
      "cell_type": "code",
      "source": [
        "np.empty((2,5))"
      ],
      "execution_count": 0,
      "outputs": [
        {
          "output_type": "execute_result",
          "data": {
            "text/plain": [
              "array([[1., 1., 1., 1., 1.],\n",
              "       [1., 1., 1., 1., 1.]])"
            ]
          },
          "metadata": {
            "tags": []
          },
          "execution_count": 15
        }
      ]
    },
    {
      "metadata": {
        "id": "7ivOj4TwkSqd",
        "colab_type": "text"
      },
      "cell_type": "markdown",
      "source": [
        "Did you notice most of the functions take tuples as the argument for array size?"
      ]
    },
    {
      "metadata": {
        "id": "l1aFzcHnkeNW",
        "colab_type": "text"
      },
      "cell_type": "markdown",
      "source": [
        "# Create a list from 0 to 10"
      ]
    },
    {
      "metadata": {
        "id": "fZmeA5yQJmoR",
        "colab_type": "text"
      },
      "cell_type": "markdown",
      "source": [
        "## Wrong count because Python counts from 0, thus from 0 to 10, so we have 11 values"
      ]
    },
    {
      "metadata": {
        "id": "Hsc0wqUXkP6S",
        "colab_type": "code",
        "outputId": "e5ef7b2a-df96-4202-b85a-ec8035247107",
        "colab": {
          "base_uri": "https://localhost:8080/",
          "height": 34
        }
      },
      "cell_type": "code",
      "source": [
        "np.arange(10)"
      ],
      "execution_count": 0,
      "outputs": [
        {
          "output_type": "execute_result",
          "data": {
            "text/plain": [
              "array([0, 1, 2, 3, 4, 5, 6, 7, 8, 9])"
            ]
          },
          "metadata": {
            "tags": []
          },
          "execution_count": 16
        }
      ]
    },
    {
      "metadata": {
        "id": "snuAOBiVkmr0",
        "colab_type": "code",
        "outputId": "00bc1c00-e721-4061-8da0-12ca6da5d139",
        "colab": {
          "base_uri": "https://localhost:8080/",
          "height": 34
        }
      },
      "cell_type": "code",
      "source": [
        "np.arange(11)"
      ],
      "execution_count": 0,
      "outputs": [
        {
          "output_type": "execute_result",
          "data": {
            "text/plain": [
              "array([ 0,  1,  2,  3,  4,  5,  6,  7,  8,  9, 10])"
            ]
          },
          "metadata": {
            "tags": []
          },
          "execution_count": 17
        }
      ]
    },
    {
      "metadata": {
        "id": "EyZ1PRK0kpaj",
        "colab_type": "text"
      },
      "cell_type": "markdown",
      "source": [
        "# Create a list from 0 to 10 with specified step sizes"
      ]
    },
    {
      "metadata": {
        "id": "ox30WkmGkoL2",
        "colab_type": "code",
        "outputId": "f95608ed-4770-4349-d6eb-06eb4bcf44e0",
        "colab": {
          "base_uri": "https://localhost:8080/",
          "height": 51
        }
      },
      "cell_type": "code",
      "source": [
        "np.arange(start = 0, stop = 10.1, step = 0.5)"
      ],
      "execution_count": 0,
      "outputs": [
        {
          "output_type": "execute_result",
          "data": {
            "text/plain": [
              "array([ 0. ,  0.5,  1. ,  1.5,  2. ,  2.5,  3. ,  3.5,  4. ,  4.5,  5. ,\n",
              "        5.5,  6. ,  6.5,  7. ,  7.5,  8. ,  8.5,  9. ,  9.5, 10. ])"
            ]
          },
          "metadata": {
            "tags": []
          },
          "execution_count": 20
        }
      ]
    },
    {
      "metadata": {
        "id": "Te5yeJkPk2En",
        "colab_type": "text"
      },
      "cell_type": "markdown",
      "source": [
        "# Create a list from 0 to 10 with unknown step sizes (but know how many elements we want in between)"
      ]
    },
    {
      "metadata": {
        "id": "iafzz7UjkzGM",
        "colab_type": "code",
        "outputId": "536ce2f1-4b45-4110-ff7b-806e381098df",
        "colab": {
          "base_uri": "https://localhost:8080/",
          "height": 69
        }
      },
      "cell_type": "code",
      "source": [
        "np.linspace(start = 0, stop = 10, num = 26,)"
      ],
      "execution_count": 0,
      "outputs": [
        {
          "output_type": "execute_result",
          "data": {
            "text/plain": [
              "array([ 0. ,  0.4,  0.8,  1.2,  1.6,  2. ,  2.4,  2.8,  3.2,  3.6,  4. ,\n",
              "        4.4,  4.8,  5.2,  5.6,  6. ,  6.4,  6.8,  7.2,  7.6,  8. ,  8.4,\n",
              "        8.8,  9.2,  9.6, 10. ])"
            ]
          },
          "metadata": {
            "tags": []
          },
          "execution_count": 20
        }
      ]
    },
    {
      "metadata": {
        "id": "8FTcI0g0lKD9",
        "colab_type": "text"
      },
      "cell_type": "markdown",
      "source": [
        "# 1D vector"
      ]
    },
    {
      "metadata": {
        "id": "O4YpSEb9lAD_",
        "colab_type": "code",
        "outputId": "d3066755-5280-4615-c799-54ff5d903507",
        "colab": {
          "base_uri": "https://localhost:8080/",
          "height": 34
        }
      },
      "cell_type": "code",
      "source": [
        "np.arange(6)"
      ],
      "execution_count": 0,
      "outputs": [
        {
          "output_type": "execute_result",
          "data": {
            "text/plain": [
              "array([0, 1, 2, 3, 4, 5])"
            ]
          },
          "metadata": {
            "tags": []
          },
          "execution_count": 21
        }
      ]
    },
    {
      "metadata": {
        "id": "lbjo3tnplNO-",
        "colab_type": "text"
      },
      "cell_type": "markdown",
      "source": [
        "# 2D matrix"
      ]
    },
    {
      "metadata": {
        "id": "dPrT51nslMX8",
        "colab_type": "code",
        "outputId": "edf0ee5c-cb3b-49b2-bc64-de535c16d91b",
        "colab": {
          "base_uri": "https://localhost:8080/",
          "height": 86
        }
      },
      "cell_type": "code",
      "source": [
        "np.arange(12).reshape(4,3) # 4 rows and 3 columns"
      ],
      "execution_count": 0,
      "outputs": [
        {
          "output_type": "execute_result",
          "data": {
            "text/plain": [
              "array([[ 0,  1,  2],\n",
              "       [ 3,  4,  5],\n",
              "       [ 6,  7,  8],\n",
              "       [ 9, 10, 11]])"
            ]
          },
          "metadata": {
            "tags": []
          },
          "execution_count": 23
        }
      ]
    },
    {
      "metadata": {
        "id": "7PXEEjSqp51n",
        "colab_type": "text"
      },
      "cell_type": "markdown",
      "source": [
        "## Transpose"
      ]
    },
    {
      "metadata": {
        "id": "2vbEdRgMp79r",
        "colab_type": "code",
        "outputId": "701e45bc-485d-441f-cd1f-933237c7e0d3",
        "colab": {
          "base_uri": "https://localhost:8080/",
          "height": 69
        }
      },
      "cell_type": "code",
      "source": [
        "a = np.arange(12).reshape(4,3)\n",
        "a.T"
      ],
      "execution_count": 0,
      "outputs": [
        {
          "output_type": "execute_result",
          "data": {
            "text/plain": [
              "array([[ 0,  3,  6,  9],\n",
              "       [ 1,  4,  7, 10],\n",
              "       [ 2,  5,  8, 11]])"
            ]
          },
          "metadata": {
            "tags": []
          },
          "execution_count": 55
        }
      ]
    },
    {
      "metadata": {
        "id": "rcN4cH0rlUkG",
        "colab_type": "text"
      },
      "cell_type": "markdown",
      "source": [
        "# 3D array"
      ]
    },
    {
      "metadata": {
        "id": "4KHDlREMlRaH",
        "colab_type": "code",
        "outputId": "4ce2e320-8233-4c27-eab9-2fae37a100c0",
        "colab": {
          "base_uri": "https://localhost:8080/",
          "height": 139
        }
      },
      "cell_type": "code",
      "source": [
        "np.arange(24).reshape(2,3,4) # 2 slice, 3 rows, and 4 columns"
      ],
      "execution_count": 0,
      "outputs": [
        {
          "output_type": "execute_result",
          "data": {
            "text/plain": [
              "array([[[ 0,  1,  2,  3],\n",
              "        [ 4,  5,  6,  7],\n",
              "        [ 8,  9, 10, 11]],\n",
              "\n",
              "       [[12, 13, 14, 15],\n",
              "        [16, 17, 18, 19],\n",
              "        [20, 21, 22, 23]]])"
            ]
          },
          "metadata": {
            "tags": []
          },
          "execution_count": 25
        }
      ]
    },
    {
      "metadata": {
        "id": "3oUptAe1lk4y",
        "colab_type": "text"
      },
      "cell_type": "markdown",
      "source": [
        "# One main reason we like arrays better than lists: calculation"
      ]
    },
    {
      "metadata": {
        "id": "v18R-l6jlbY8",
        "colab_type": "code",
        "outputId": "26c0fe88-e4a7-40bd-bee3-615c083bea43",
        "colab": {
          "base_uri": "https://localhost:8080/",
          "height": 198
        }
      },
      "cell_type": "code",
      "source": [
        "a = [1,2,3]\n",
        "b = [2,3,4]\n",
        "print(b - a)"
      ],
      "execution_count": 0,
      "outputs": [
        {
          "output_type": "error",
          "ename": "TypeError",
          "evalue": "ignored",
          "traceback": [
            "\u001b[0;31m---------------------------------------------------------------------------\u001b[0m",
            "\u001b[0;31mTypeError\u001b[0m                                 Traceback (most recent call last)",
            "\u001b[0;32m<ipython-input-21-17c296fde5d3>\u001b[0m in \u001b[0;36m<module>\u001b[0;34m()\u001b[0m\n\u001b[1;32m      1\u001b[0m \u001b[0ma\u001b[0m \u001b[0;34m=\u001b[0m \u001b[0;34m[\u001b[0m\u001b[0;36m1\u001b[0m\u001b[0;34m,\u001b[0m\u001b[0;36m2\u001b[0m\u001b[0;34m,\u001b[0m\u001b[0;36m3\u001b[0m\u001b[0;34m]\u001b[0m\u001b[0;34m\u001b[0m\u001b[0;34m\u001b[0m\u001b[0m\n\u001b[1;32m      2\u001b[0m \u001b[0mb\u001b[0m \u001b[0;34m=\u001b[0m \u001b[0;34m[\u001b[0m\u001b[0;36m2\u001b[0m\u001b[0;34m,\u001b[0m\u001b[0;36m3\u001b[0m\u001b[0;34m,\u001b[0m\u001b[0;36m4\u001b[0m\u001b[0;34m]\u001b[0m\u001b[0;34m\u001b[0m\u001b[0;34m\u001b[0m\u001b[0m\n\u001b[0;32m----> 3\u001b[0;31m \u001b[0mprint\u001b[0m\u001b[0;34m(\u001b[0m\u001b[0mb\u001b[0m \u001b[0;34m-\u001b[0m \u001b[0ma\u001b[0m\u001b[0;34m)\u001b[0m\u001b[0;34m\u001b[0m\u001b[0;34m\u001b[0m\u001b[0m\n\u001b[0m",
            "\u001b[0;31mTypeError\u001b[0m: unsupported operand type(s) for -: 'list' and 'list'"
          ]
        }
      ]
    },
    {
      "metadata": {
        "id": "2gNviCUIlscI",
        "colab_type": "code",
        "outputId": "35270a96-ca49-4065-bc2a-e71f18d40392",
        "colab": {
          "base_uri": "https://localhost:8080/",
          "height": 34
        }
      },
      "cell_type": "code",
      "source": [
        "a = np.array([1,2,3])\n",
        "b = np.array([2,3,4])\n",
        "print(b - a)"
      ],
      "execution_count": 0,
      "outputs": [
        {
          "output_type": "stream",
          "text": [
            "[1 1 1]\n"
          ],
          "name": "stdout"
        }
      ]
    },
    {
      "metadata": {
        "id": "kOuZaXJYl0WB",
        "colab_type": "text"
      },
      "cell_type": "markdown",
      "source": [
        "## Elementwise multiplication"
      ]
    },
    {
      "metadata": {
        "id": "OfJhhcZRlxuy",
        "colab_type": "code",
        "outputId": "e9c75682-1912-4d51-b344-d78428f1c346",
        "colab": {
          "base_uri": "https://localhost:8080/",
          "height": 34
        }
      },
      "cell_type": "code",
      "source": [
        "a * b"
      ],
      "execution_count": 0,
      "outputs": [
        {
          "output_type": "execute_result",
          "data": {
            "text/plain": [
              "array([ 2,  6, 12])"
            ]
          },
          "metadata": {
            "tags": []
          },
          "execution_count": 28
        }
      ]
    },
    {
      "metadata": {
        "id": "jE42tPdul48q",
        "colab_type": "text"
      },
      "cell_type": "markdown",
      "source": [
        "## Matrix product"
      ]
    },
    {
      "metadata": {
        "id": "ZL4cec4jl3js",
        "colab_type": "code",
        "outputId": "f2686f7b-0fdb-4b0f-8ea3-689a02b1f5fd",
        "colab": {
          "base_uri": "https://localhost:8080/",
          "height": 34
        }
      },
      "cell_type": "code",
      "source": [
        "a @ b"
      ],
      "execution_count": 0,
      "outputs": [
        {
          "output_type": "execute_result",
          "data": {
            "text/plain": [
              "20"
            ]
          },
          "metadata": {
            "tags": []
          },
          "execution_count": 29
        }
      ]
    },
    {
      "metadata": {
        "id": "POeOw30vl7kE",
        "colab_type": "code",
        "outputId": "621d3a4a-c1bf-404d-a688-473d627c9655",
        "colab": {
          "base_uri": "https://localhost:8080/",
          "height": 34
        }
      },
      "cell_type": "code",
      "source": [
        "a.dot(b)"
      ],
      "execution_count": 0,
      "outputs": [
        {
          "output_type": "execute_result",
          "data": {
            "text/plain": [
              "20"
            ]
          },
          "metadata": {
            "tags": []
          },
          "execution_count": 30
        }
      ]
    },
    {
      "metadata": {
        "id": "uBHJwsxZmCrA",
        "colab_type": "text"
      },
      "cell_type": "markdown",
      "source": [
        "# Random number generator"
      ]
    },
    {
      "metadata": {
        "id": "qZkBADill96x",
        "colab_type": "code",
        "outputId": "cc265e9a-9500-49d7-8554-6c79e8990748",
        "colab": {
          "base_uri": "https://localhost:8080/",
          "height": 312
        }
      },
      "cell_type": "code",
      "source": [
        "a = np.random.normal(loc = 0.,# mean\n",
        "                    scale = 1., # standard deviation\n",
        "                    size = 100,)\n",
        "print(a)"
      ],
      "execution_count": 0,
      "outputs": [
        {
          "output_type": "stream",
          "text": [
            "[-0.56919931  1.59719173  0.31371301 -0.75166819  0.70786795  0.35398157\n",
            "  0.80630966  0.3920428   0.40491868 -0.38717116  0.52588043  0.30489974\n",
            "  0.48610367 -0.72636539  0.60299139 -0.06446279  1.02767295  0.86517433\n",
            " -0.56108727 -0.72733442  1.27458012 -1.72300026 -0.14752267 -2.01867956\n",
            " -1.10199377 -1.24851521 -0.46223911 -0.76345723  0.55237212 -0.2000017\n",
            "  0.1367161   1.11370043  0.28751838  0.02032709  0.36707576 -0.95220038\n",
            "  0.91105037 -0.70578481 -1.3328595  -0.46825063 -0.18128037  0.52201147\n",
            "  1.04166555 -1.17605636  0.05749887 -1.11809844  1.45560431 -1.6660107\n",
            "  0.13214432  0.60285254  1.88824505 -1.39596822  0.75599228  0.06422107\n",
            "  0.41377325 -1.94799504 -0.40324404  0.01383966 -1.07146737 -0.04019916\n",
            " -0.04966029  1.59127709  0.22872209 -0.38887147  0.09019185  0.67004384\n",
            " -2.01953604 -0.7930309  -0.8834362  -0.35617036 -0.33526812  0.81390491\n",
            " -1.45935765 -1.16263562 -0.49597869  0.14390111 -1.08645032 -0.37333945\n",
            " -0.92586694 -0.50673293 -0.68660513  1.41419171  0.3542044  -0.19954866\n",
            "  1.58937233 -0.38504527  0.16114668 -1.05581087  0.61529485 -0.17666435\n",
            "  0.10015938 -0.70576059  0.8530166   1.00779446  0.75292576 -0.8693964\n",
            "  0.52920854 -1.10083959 -1.35749543 -2.35238873]\n"
          ],
          "name": "stdout"
        }
      ]
    },
    {
      "metadata": {
        "id": "5EyCnYbkmcl3",
        "colab_type": "code",
        "outputId": "8361bd7c-3a94-4d3b-f3c8-186f9dc22839",
        "colab": {
          "base_uri": "https://localhost:8080/",
          "height": 434
        }
      },
      "cell_type": "code",
      "source": [
        "plt.hist(a)"
      ],
      "execution_count": 0,
      "outputs": [
        {
          "output_type": "execute_result",
          "data": {
            "text/plain": [
              "(array([ 4.,  2., 11., 14., 13., 18., 18., 11.,  5.,  4.]),\n",
              " array([-2.35238873, -1.92832536, -1.50426198, -1.0801986 , -0.65613522,\n",
              "        -0.23207184,  0.19199154,  0.61605492,  1.04011829,  1.46418167,\n",
              "         1.88824505]),\n",
              " <a list of 10 Patch objects>)"
            ]
          },
          "metadata": {
            "tags": []
          },
          "execution_count": 34
        },
        {
          "output_type": "display_data",
          "data": {
            "image/png": "[encoded data removed]",
            "text/plain": [
              "<Figure size 576x396 with 1 Axes>"
            ]
          },
          "metadata": {
            "tags": []
          }
        }
      ]
    },
    {
      "metadata": {
        "id": "qgylos66nOr4",
        "colab_type": "text"
      },
      "cell_type": "markdown",
      "source": [
        "# Pseudo random generator"
      ]
    },
    {
      "metadata": {
        "id": "PUFxCZI6mdke",
        "colab_type": "code",
        "outputId": "412dc829-26e8-4b46-a3ab-abfd0ad178d2",
        "colab": {
          "base_uri": "https://localhost:8080/",
          "height": 191
        }
      },
      "cell_type": "code",
      "source": [
        "for i in range(10):\n",
        "    print(np.random.randint(1,10))"
      ],
      "execution_count": 0,
      "outputs": [
        {
          "output_type": "stream",
          "text": [
            "9\n",
            "7\n",
            "6\n",
            "7\n",
            "4\n",
            "6\n",
            "2\n",
            "6\n",
            "6\n",
            "2\n"
          ],
          "name": "stdout"
        }
      ]
    },
    {
      "metadata": {
        "id": "B6DI6vvhm7o4",
        "colab_type": "code",
        "outputId": "efbb55e5-612b-4188-d126-528d27d68f9a",
        "colab": {
          "base_uri": "https://localhost:8080/",
          "height": 191
        }
      },
      "cell_type": "code",
      "source": [
        "for i in range(10):\n",
        "    np.random.seed(12345)\n",
        "    print(np.random.randint(1,10))"
      ],
      "execution_count": 0,
      "outputs": [
        {
          "output_type": "stream",
          "text": [
            "3\n",
            "3\n",
            "3\n",
            "3\n",
            "3\n",
            "3\n",
            "3\n",
            "3\n",
            "3\n",
            "3\n"
          ],
          "name": "stdout"
        }
      ]
    },
    {
      "metadata": {
        "id": "y-sUstGcnhO6",
        "colab_type": "text"
      },
      "cell_type": "markdown",
      "source": [
        "# Sample from a given array"
      ]
    },
    {
      "metadata": {
        "id": "Z67AR7rendSD",
        "colab_type": "code",
        "outputId": "7933e950-e4cc-4afc-97c1-683f1ef5b933",
        "colab": {
          "base_uri": "https://localhost:8080/",
          "height": 69
        }
      },
      "cell_type": "code",
      "source": [
        "# this is equivalent to flip a fair coin 100 times\n",
        "a = np.random.choice([0,1],size = 100, replace = True, p = [0.5,0.5]) \n",
        "print(a)"
      ],
      "execution_count": 0,
      "outputs": [
        {
          "output_type": "stream",
          "text": [
            "[1 0 0 1 1 1 0 1 0 0 1 0 0 0 1 1 1 1 1 0 1 1 0 1 0 1 0 1 1 0 1 1 1 1 1 1 1\n",
            " 1 1 0 0 0 1 0 0 1 1 1 1 1 0 1 0 0 0 0 1 0 0 0 0 0 1 1 0 1 1 1 1 1 0 0 1 0\n",
            " 0 1 1 1 0 1 1 0 0 1 0 0 0 1 0 0 0 1 0 0 0 0 0 0 1 0]\n"
          ],
          "name": "stdout"
        }
      ]
    },
    {
      "metadata": {
        "id": "pgHr57F0nwRu",
        "colab_type": "code",
        "outputId": "1d4d349e-3212-4060-ab28-9dec32bb6fcc",
        "colab": {
          "base_uri": "https://localhost:8080/",
          "height": 69
        }
      },
      "cell_type": "code",
      "source": [
        "# this is equivalent to roll a fair die 100 times\n",
        "a = np.random.choice(np.arange(start = 1, stop = 7),size = 100, replace = True, p = [1./6] * 6)\n",
        "print(a)"
      ],
      "execution_count": 0,
      "outputs": [
        {
          "output_type": "stream",
          "text": [
            "[6 2 3 2 5 3 1 1 2 2 6 1 4 4 3 6 3 6 3 6 5 6 3 3 2 3 5 4 3 4 5 6 4 4 1 1 4\n",
            " 3 1 1 1 6 1 6 1 5 2 2 5 5 6 6 2 3 1 2 6 6 5 3 2 6 5 5 6 6 3 4 5 2 5 6 6 1\n",
            " 6 2 4 2 6 5 1 4 4 3 4 2 5 1 2 2 3 6 6 4 6 3 1 4 2 3]\n"
          ],
          "name": "stdout"
        }
      ]
    },
    {
      "metadata": {
        "id": "0vEHdaagoR_V",
        "colab_type": "text"
      },
      "cell_type": "markdown",
      "source": [
        "# Reorder a vector"
      ]
    },
    {
      "metadata": {
        "id": "P9zGDcU1oD_E",
        "colab_type": "code",
        "outputId": "e7fde679-8bd0-4f48-da6e-046564f2b0d6",
        "colab": {
          "base_uri": "https://localhost:8080/",
          "height": 52
        }
      },
      "cell_type": "code",
      "source": [
        "a = np.arange(20)\n",
        "print(a)\n",
        "np.random.shuffle(a)\n",
        "print(a)"
      ],
      "execution_count": 0,
      "outputs": [
        {
          "output_type": "stream",
          "text": [
            "[ 0  1  2  3  4  5  6  7  8  9 10 11 12 13 14 15 16 17 18 19]\n",
            "[12 13  9  2  0 10  8 18  7  3 19 15  6 17 11  5 16  1 14  4]\n"
          ],
          "name": "stdout"
        }
      ]
    },
    {
      "metadata": {
        "id": "b7HgtP24oh8a",
        "colab_type": "text"
      },
      "cell_type": "markdown",
      "source": [
        "# Iterate through a N-dimensional array: you will iterate through the first dimension (which usually are the rows)"
      ]
    },
    {
      "metadata": {
        "id": "l1ECVdufoYKC",
        "colab_type": "code",
        "outputId": "5a0433d2-40bd-41d2-c284-a38ba95df822",
        "colab": {
          "base_uri": "https://localhost:8080/",
          "height": 712
        }
      },
      "cell_type": "code",
      "source": [
        "a = np.arange(100).reshape(20,5)\n",
        "print(a)\n",
        "for ii,row in enumerate(a):\n",
        "    print('row ',ii,row)"
      ],
      "execution_count": 0,
      "outputs": [
        {
          "output_type": "stream",
          "text": [
            "[[ 0  1  2  3  4]\n",
            " [ 5  6  7  8  9]\n",
            " [10 11 12 13 14]\n",
            " [15 16 17 18 19]\n",
            " [20 21 22 23 24]\n",
            " [25 26 27 28 29]\n",
            " [30 31 32 33 34]\n",
            " [35 36 37 38 39]\n",
            " [40 41 42 43 44]\n",
            " [45 46 47 48 49]\n",
            " [50 51 52 53 54]\n",
            " [55 56 57 58 59]\n",
            " [60 61 62 63 64]\n",
            " [65 66 67 68 69]\n",
            " [70 71 72 73 74]\n",
            " [75 76 77 78 79]\n",
            " [80 81 82 83 84]\n",
            " [85 86 87 88 89]\n",
            " [90 91 92 93 94]\n",
            " [95 96 97 98 99]]\n",
            "row  0 [0 1 2 3 4]\n",
            "row  1 [5 6 7 8 9]\n",
            "row  2 [10 11 12 13 14]\n",
            "row  3 [15 16 17 18 19]\n",
            "row  4 [20 21 22 23 24]\n",
            "row  5 [25 26 27 28 29]\n",
            "row  6 [30 31 32 33 34]\n",
            "row  7 [35 36 37 38 39]\n",
            "row  8 [40 41 42 43 44]\n",
            "row  9 [45 46 47 48 49]\n",
            "row  10 [50 51 52 53 54]\n",
            "row  11 [55 56 57 58 59]\n",
            "row  12 [60 61 62 63 64]\n",
            "row  13 [65 66 67 68 69]\n",
            "row  14 [70 71 72 73 74]\n",
            "row  15 [75 76 77 78 79]\n",
            "row  16 [80 81 82 83 84]\n",
            "row  17 [85 86 87 88 89]\n",
            "row  18 [90 91 92 93 94]\n",
            "row  19 [95 96 97 98 99]\n"
          ],
          "name": "stdout"
        }
      ]
    },
    {
      "metadata": {
        "id": "i4962MZgpAPH",
        "colab_type": "text"
      },
      "cell_type": "markdown",
      "source": [
        "# Concatenation, stack: putting multiple arrays together"
      ]
    },
    {
      "metadata": {
        "id": "4sD8qI8XpGCp",
        "colab_type": "text"
      },
      "cell_type": "markdown",
      "source": [
        "## Simple concatenation"
      ]
    },
    {
      "metadata": {
        "id": "p0pJ8I3Koyku",
        "colab_type": "code",
        "outputId": "70f14a80-93f5-4fe2-a943-7ce1c0347174",
        "colab": {
          "base_uri": "https://localhost:8080/",
          "height": 52
        }
      },
      "cell_type": "code",
      "source": [
        "a = np.arange(6)\n",
        "b = np.arange(7)\n",
        "print(a,b)\n",
        "print(np.concatenate([a,b]))"
      ],
      "execution_count": 0,
      "outputs": [
        {
          "output_type": "stream",
          "text": [
            "[0 1 2 3 4 5] [0 1 2 3 4 5 6]\n",
            "[0 1 2 3 4 5 0 1 2 3 4 5 6]\n"
          ],
          "name": "stdout"
        }
      ]
    },
    {
      "metadata": {
        "id": "1cdW-I3bpPSV",
        "colab_type": "text"
      },
      "cell_type": "markdown",
      "source": [
        "## Stacking"
      ]
    },
    {
      "metadata": {
        "id": "McavJj4FpR8e",
        "colab_type": "text"
      },
      "cell_type": "markdown",
      "source": [
        "### Row stacking"
      ]
    },
    {
      "metadata": {
        "id": "MwcmolnFpMs2",
        "colab_type": "code",
        "outputId": "fd1e0ec2-33af-4c4e-95b4-7f5883ccd2df",
        "colab": {
          "base_uri": "https://localhost:8080/",
          "height": 121
        }
      },
      "cell_type": "code",
      "source": [
        "a = np.arange(6).reshape(2,3)\n",
        "b = np.arange(8).reshape(2,4)\n",
        "print(a)\n",
        "print(b)\n",
        "print(np.hstack([a,b]))"
      ],
      "execution_count": 0,
      "outputs": [
        {
          "output_type": "stream",
          "text": [
            "[[0 1 2]\n",
            " [3 4 5]]\n",
            "[[0 1 2 3]\n",
            " [4 5 6 7]]\n",
            "[[0 1 2 0 1 2 3]\n",
            " [3 4 5 4 5 6 7]]\n"
          ],
          "name": "stdout"
        }
      ]
    },
    {
      "metadata": {
        "id": "Kiu8dUUPpgcK",
        "colab_type": "text"
      },
      "cell_type": "markdown",
      "source": [
        "### Column stacking"
      ]
    },
    {
      "metadata": {
        "id": "ZU-ZVYGgpWJq",
        "colab_type": "code",
        "outputId": "fe9155fe-8ae9-44a0-de9f-edef0ff477cd",
        "colab": {
          "base_uri": "https://localhost:8080/",
          "height": 392
        }
      },
      "cell_type": "code",
      "source": [
        "a = np.arange(6).reshape(2,3)\n",
        "b = np.arange(8).reshape(2,4)\n",
        "print(a)\n",
        "print(b)\n",
        "print(np.vstack([a,b]))"
      ],
      "execution_count": 0,
      "outputs": [
        {
          "output_type": "stream",
          "text": [
            "[[0 1 2]\n",
            " [3 4 5]]\n",
            "[[0 1 2 3]\n",
            " [4 5 6 7]]\n"
          ],
          "name": "stdout"
        },
        {
          "output_type": "error",
          "ename": "ValueError",
          "evalue": "ignored",
          "traceback": [
            "\u001b[0;31m---------------------------------------------------------------------------\u001b[0m",
            "\u001b[0;31mValueError\u001b[0m                                Traceback (most recent call last)",
            "\u001b[0;32m<ipython-input-50-4827ff649fbe>\u001b[0m in \u001b[0;36m<module>\u001b[0;34m()\u001b[0m\n\u001b[1;32m      3\u001b[0m \u001b[0mprint\u001b[0m\u001b[0;34m(\u001b[0m\u001b[0ma\u001b[0m\u001b[0;34m)\u001b[0m\u001b[0;34m\u001b[0m\u001b[0;34m\u001b[0m\u001b[0m\n\u001b[1;32m      4\u001b[0m \u001b[0mprint\u001b[0m\u001b[0;34m(\u001b[0m\u001b[0mb\u001b[0m\u001b[0;34m)\u001b[0m\u001b[0;34m\u001b[0m\u001b[0;34m\u001b[0m\u001b[0m\n\u001b[0;32m----> 5\u001b[0;31m \u001b[0mprint\u001b[0m\u001b[0;34m(\u001b[0m\u001b[0mnp\u001b[0m\u001b[0;34m.\u001b[0m\u001b[0mvstack\u001b[0m\u001b[0;34m(\u001b[0m\u001b[0;34m[\u001b[0m\u001b[0ma\u001b[0m\u001b[0;34m,\u001b[0m\u001b[0mb\u001b[0m\u001b[0;34m]\u001b[0m\u001b[0;34m)\u001b[0m\u001b[0;34m)\u001b[0m\u001b[0;34m\u001b[0m\u001b[0;34m\u001b[0m\u001b[0m\n\u001b[0m",
            "\u001b[0;32m/usr/local/lib/python3.6/dist-packages/numpy/core/shape_base.py\u001b[0m in \u001b[0;36mvstack\u001b[0;34m(tup)\u001b[0m\n\u001b[1;32m    232\u001b[0m \u001b[0;34m\u001b[0m\u001b[0m\n\u001b[1;32m    233\u001b[0m     \"\"\"\n\u001b[0;32m--> 234\u001b[0;31m     \u001b[0;32mreturn\u001b[0m \u001b[0m_nx\u001b[0m\u001b[0;34m.\u001b[0m\u001b[0mconcatenate\u001b[0m\u001b[0;34m(\u001b[0m\u001b[0;34m[\u001b[0m\u001b[0matleast_2d\u001b[0m\u001b[0;34m(\u001b[0m\u001b[0m_m\u001b[0m\u001b[0;34m)\u001b[0m \u001b[0;32mfor\u001b[0m \u001b[0m_m\u001b[0m \u001b[0;32min\u001b[0m \u001b[0mtup\u001b[0m\u001b[0;34m]\u001b[0m\u001b[0;34m,\u001b[0m \u001b[0;36m0\u001b[0m\u001b[0;34m)\u001b[0m\u001b[0;34m\u001b[0m\u001b[0;34m\u001b[0m\u001b[0m\n\u001b[0m\u001b[1;32m    235\u001b[0m \u001b[0;34m\u001b[0m\u001b[0m\n\u001b[1;32m    236\u001b[0m \u001b[0;32mdef\u001b[0m \u001b[0mhstack\u001b[0m\u001b[0;34m(\u001b[0m\u001b[0mtup\u001b[0m\u001b[0;34m)\u001b[0m\u001b[0;34m:\u001b[0m\u001b[0;34m\u001b[0m\u001b[0;34m\u001b[0m\u001b[0m\n",
            "\u001b[0;31mValueError\u001b[0m: all the input array dimensions except for the concatenation axis must match exactly"
          ]
        }
      ]
    },
    {
      "metadata": {
        "id": "p91e3P1Opjj8",
        "colab_type": "code",
        "outputId": "f9459d83-e9ea-4cdb-c377-cc61341f2a7b",
        "colab": {
          "base_uri": "https://localhost:8080/",
          "height": 260
        }
      },
      "cell_type": "code",
      "source": [
        "a = np.arange(6).reshape(3,2)\n",
        "b = np.arange(8).reshape(4,2)\n",
        "print(a)\n",
        "print(b)\n",
        "print(np.vstack([a,b]))"
      ],
      "execution_count": 0,
      "outputs": [
        {
          "output_type": "stream",
          "text": [
            "[[0 1]\n",
            " [2 3]\n",
            " [4 5]]\n",
            "[[0 1]\n",
            " [2 3]\n",
            " [4 5]\n",
            " [6 7]]\n",
            "[[0 1]\n",
            " [2 3]\n",
            " [4 5]\n",
            " [0 1]\n",
            " [2 3]\n",
            " [4 5]\n",
            " [6 7]]\n"
          ],
          "name": "stdout"
        }
      ]
    },
    {
      "metadata": {
        "id": "BDfIhRsWpqmv",
        "colab_type": "code",
        "outputId": "bb5e4238-6051-4a78-b086-c6e859bcdec7",
        "colab": {
          "base_uri": "https://localhost:8080/",
          "height": 86
        }
      },
      "cell_type": "code",
      "source": [
        "a = np.arange(7)\n",
        "b = np.arange(7)\n",
        "print(a)\n",
        "print(b)\n",
        "print(np.vstack([a,b]))"
      ],
      "execution_count": 0,
      "outputs": [
        {
          "output_type": "stream",
          "text": [
            "[0 1 2 3 4 5 6]\n",
            "[0 1 2 3 4 5 6]\n",
            "[[0 1 2 3 4 5 6]\n",
            " [0 1 2 3 4 5 6]]\n"
          ],
          "name": "stdout"
        }
      ]
    },
    {
      "metadata": {
        "id": "jOoqkdDoqJqR",
        "colab_type": "text"
      },
      "cell_type": "markdown",
      "source": [
        "# Another reason we like arrays better than lists"
      ]
    },
    {
      "metadata": {
        "id": "BqMIyDhepzr0",
        "colab_type": "code",
        "outputId": "9e59ba6b-28ba-46f1-a41c-b53ed1dc038e",
        "colab": {
          "base_uri": "https://localhost:8080/",
          "height": 201
        }
      },
      "cell_type": "code",
      "source": [
        "a = [[False, False, False, False],\n",
        "     [False,  True,  True,  True],\n",
        "     [ True,  True,  True,  True]]\n",
        "sum(a)"
      ],
      "execution_count": 0,
      "outputs": [
        {
          "output_type": "error",
          "ename": "TypeError",
          "evalue": "ignored",
          "traceback": [
            "\u001b[0;31m---------------------------------------------------------------------------\u001b[0m",
            "\u001b[0;31mTypeError\u001b[0m                                 Traceback (most recent call last)",
            "\u001b[0;32m<ipython-input-56-ba5d5954b9e9>\u001b[0m in \u001b[0;36m<module>\u001b[0;34m()\u001b[0m\n\u001b[1;32m      2\u001b[0m      \u001b[0;34m[\u001b[0m\u001b[0;32mFalse\u001b[0m\u001b[0;34m,\u001b[0m  \u001b[0;32mTrue\u001b[0m\u001b[0;34m,\u001b[0m  \u001b[0;32mTrue\u001b[0m\u001b[0;34m,\u001b[0m  \u001b[0;32mTrue\u001b[0m\u001b[0;34m]\u001b[0m\u001b[0;34m,\u001b[0m\u001b[0;34m\u001b[0m\u001b[0;34m\u001b[0m\u001b[0m\n\u001b[1;32m      3\u001b[0m      [ True,  True,  True,  True]]\n\u001b[0;32m----> 4\u001b[0;31m \u001b[0msum\u001b[0m\u001b[0;34m(\u001b[0m\u001b[0ma\u001b[0m\u001b[0;34m)\u001b[0m\u001b[0;34m\u001b[0m\u001b[0;34m\u001b[0m\u001b[0m\n\u001b[0m",
            "\u001b[0;31mTypeError\u001b[0m: unsupported operand type(s) for +: 'int' and 'list'"
          ]
        }
      ]
    },
    {
      "metadata": {
        "id": "WfaSBQoRqRHo",
        "colab_type": "code",
        "outputId": "e4b96d50-f4c3-4b14-82ae-d48695919465",
        "colab": {
          "base_uri": "https://localhost:8080/",
          "height": 69
        }
      },
      "cell_type": "code",
      "source": [
        "print('how many True in each row: ',np.sum(a,0))\n",
        "print('how many True in each column: ',np.sum(a,1))\n",
        "print('how many True in total: ', np.sum(a))"
      ],
      "execution_count": 0,
      "outputs": [
        {
          "output_type": "stream",
          "text": [
            "how many True in each row:  [1 2 2 2]\n",
            "how many True in each column:  [0 3 4]\n",
            "how many True in total:  7\n"
          ],
          "name": "stdout"
        }
      ]
    },
    {
      "metadata": {
        "id": "g8Y7GSQzq2Ot",
        "colab_type": "text"
      },
      "cell_type": "markdown",
      "source": [
        "# Implement resampling-based t-test only using numpy"
      ]
    },
    {
      "metadata": {
        "id": "JxasQ_19qTZO",
        "colab_type": "code",
        "outputId": "634f7bc2-3e06-4516-8da6-d4d8ff4e9730",
        "colab": {
          "base_uri": "https://localhost:8080/",
          "height": 104
        }
      },
      "cell_type": "code",
      "source": [
        "mean = 0.015,\n",
        "std = 0.026\n",
        "a = np.random.normal(mean,std,size = 26)\n",
        "print(a)"
      ],
      "execution_count": 0,
      "outputs": [
        {
          "output_type": "stream",
          "text": [
            "[-0.0212259   0.00651751  0.02102403  0.0269222   0.00137613 -0.02855339\n",
            "  0.03136326  0.05226453 -0.02291431  0.05070859  0.06118009  0.0660808\n",
            " -0.00580675  0.02118359 -0.03163576  0.04807687  0.00641639  0.00701383\n",
            " -0.01354853 -0.02300694  0.02869265 -0.01280918  0.01515224  0.01757652\n",
            " -0.03360729  0.06622098]\n"
          ],
          "name": "stdout"
        }
      ]
    },
    {
      "metadata": {
        "id": "0pFAFiVdrJ07",
        "colab_type": "code",
        "outputId": "194841e9-8aba-4152-a1f8-61510656ff1d",
        "colab": {
          "base_uri": "https://localhost:8080/",
          "height": 434
        }
      },
      "cell_type": "code",
      "source": [
        "plt.hist(a)"
      ],
      "execution_count": 0,
      "outputs": [
        {
          "output_type": "execute_result",
          "data": {
            "text/plain": [
              "(array([3., 3., 3., 1., 4., 3., 3., 0., 3., 3.]),\n",
              " array([-0.03360729, -0.02362447, -0.01364164, -0.00365881,  0.00632401,\n",
              "         0.01630684,  0.02628967,  0.0362725 ,  0.04625532,  0.05623815,\n",
              "         0.06622098]),\n",
              " <a list of 10 Patch objects>)"
            ]
          },
          "metadata": {
            "tags": []
          },
          "execution_count": 68
        },
        {
          "output_type": "display_data",
          "data": {
            "image/png": "[encoded data removed]",
            "text/plain": [
              "<Figure size 576x396 with 1 Axes>"
            ]
          },
          "metadata": {
            "tags": []
          }
        }
      ]
    },
    {
      "metadata": {
        "id": "ISUMdaW7rMTl",
        "colab_type": "text"
      },
      "cell_type": "markdown",
      "source": [
        "## Is variable `a` significantly different from 0?\n",
        "### [resampling method](http://www.stat.ucla.edu/~rgould/110as02/bshypothesis.pdf)"
      ]
    },
    {
      "metadata": {
        "id": "goG5QMSwrLHv",
        "colab_type": "code",
        "colab": {}
      },
      "cell_type": "code",
      "source": [
        "baseline = 0\n",
        "n_permutations = 5000\n",
        "n_simulations = 100\n",
        "experiment_mean = np.mean(a)\n",
        "rescale_experiment_mean_to_zero = a - np.mean(a) + baseline\n",
        "# to generate a distribution of null hypothesis that centers at 0 but with the \n",
        "# same shape of distribution as variable a\n",
        "# 1st dimension: number of samples same as variable a\n",
        "# 2nd dimension: within one permutation resampling, we perform resampling number \n",
        "# of samples same as variable a, but also repeat this n_permutations times\n",
        "# 3rd dimension: repeat the permutation n_simulation times to estimate if the \n",
        "# permutation is effective\n",
        "resamples = np.random.choice(rescale_experiment_mean_to_zero,\n",
        "                             size = (a.shape[0],n_permutations,n_simulations),\n",
        "                             replace = True)\n",
        "# take the average over the 1st dimension because we only care about if the mean\n",
        "# of the null distribution along each permutation and each simulation\n",
        "resamples = resamples.mean(0) \n",
        "\n",
        "pvalues = (np.sum(np.abs(resamples) >= np.abs(experiment_mean),axis=0)+1.) / (n_permutations + 1.) # to avoid divided by zero\n"
      ],
      "execution_count": 0,
      "outputs": []
    },
    {
      "metadata": {
        "id": "RqBDeGjEtApp",
        "colab_type": "code",
        "outputId": "b7cd1b44-5c06-481f-f38a-e5186d8bb498",
        "colab": {
          "base_uri": "https://localhost:8080/",
          "height": 312
        }
      },
      "cell_type": "code",
      "source": [
        "print(pvalues)"
      ],
      "execution_count": 0,
      "outputs": [
        {
          "output_type": "stream",
          "text": [
            "[0.0309938  0.03079384 0.03219356 0.03559288 0.03379324 0.03259348\n",
            " 0.03439312 0.03259348 0.03239352 0.03619276 0.0289942  0.03239352\n",
            " 0.03379324 0.03359328 0.03159368 0.03479304 0.03439312 0.0379924\n",
            " 0.03359328 0.03159368 0.03519296 0.03279344 0.03019396 0.03839232\n",
            " 0.03279344 0.03619276 0.0329934  0.03739252 0.03779244 0.03279344\n",
            " 0.03159368 0.03159368 0.03119376 0.03019396 0.03879224 0.03159368\n",
            " 0.03319336 0.03219356 0.0329934  0.03579284 0.03039392 0.03439312\n",
            " 0.03259348 0.02779444 0.03719256 0.034993   0.03339332 0.03059388\n",
            " 0.03119376 0.03459308 0.03679264 0.03239352 0.03619276 0.03139372\n",
            " 0.03339332 0.03559288 0.03319336 0.0329934  0.03639272 0.03379324\n",
            " 0.03239352 0.03059388 0.0329934  0.0309938  0.02979404 0.0309938\n",
            " 0.03179364 0.03539292 0.029994   0.02859428 0.0319936  0.02979404\n",
            " 0.02879424 0.03559288 0.03319336 0.03319336 0.03079384 0.0319936\n",
            " 0.03319336 0.03379324 0.03459308 0.03259348 0.03739252 0.03259348\n",
            " 0.0329934  0.03019396 0.03059388 0.02979404 0.0369926  0.029994\n",
            " 0.03479304 0.03439312 0.03559288 0.0319936  0.0339932  0.02739452\n",
            " 0.03259348 0.03339332 0.03859228 0.03119376]\n"
          ],
          "name": "stdout"
        }
      ]
    },
    {
      "metadata": {
        "id": "f5SWyPqmtCc0",
        "colab_type": "code",
        "outputId": "f679edc7-c720-4f81-d647-4e666cb392fb",
        "colab": {
          "base_uri": "https://localhost:8080/",
          "height": 434
        }
      },
      "cell_type": "code",
      "source": [
        "plt.hist(pvalues)"
      ],
      "execution_count": 0,
      "outputs": [
        {
          "output_type": "execute_result",
          "data": {
            "text/plain": [
              "(array([ 2.,  3., 14., 13., 23., 15., 10., 10.,  5.,  5.]),\n",
              " array([0.02739452, 0.02853429, 0.02967407, 0.03081384, 0.03195361,\n",
              "        0.03309338, 0.03423315, 0.03537293, 0.0365127 , 0.03765247,\n",
              "        0.03879224]),\n",
              " <a list of 10 Patch objects>)"
            ]
          },
          "metadata": {
            "tags": []
          },
          "execution_count": 71
        },
        {
          "output_type": "display_data",
          "data": {
            "image/png": "[encoded data removed]",
            "text/plain": [
              "<Figure size 576x396 with 1 Axes>"
            ]
          },
          "metadata": {
            "tags": []
          }
        }
      ]
    },
    {
      "metadata": {
        "id": "ocyYhWHctSjy",
        "colab_type": "text"
      },
      "cell_type": "markdown",
      "source": [
        "## The same idea can be used to implement pair-sample t-test with resampling method"
      ]
    },
    {
      "metadata": {
        "id": "6uOffqHatNi_",
        "colab_type": "code",
        "colab": {}
      },
      "cell_type": "code",
      "source": [
        ""
      ],
      "execution_count": 0,
      "outputs": []
    }
  ]
}
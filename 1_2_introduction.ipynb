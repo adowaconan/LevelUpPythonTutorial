{
  "nbformat": 4,
  "nbformat_minor": 0,
  "metadata": {
    "colab": {
      "name": "1.2. introduction.ipynb",
      "version": "0.3.2",
      "provenance": [],
      "collapsed_sections": [],
      "toc_visible": true,
      "include_colab_link": true
    },
    "kernelspec": {
      "name": "python3",
      "display_name": "Python 3"
    }
  },
  "cells": [
    {
      "cell_type": "markdown",
      "metadata": {
        "id": "view-in-github",
        "colab_type": "text"
      },
      "source": [
        "<a href=\"https://colab.research.google.com/github/adowaconan/LevelUpPythonTutorial/blob/master/1_2_introduction.ipynb\" target=\"_parent\"><img src=\"https://colab.research.google.com/assets/colab-badge.svg\" alt=\"Open In Colab\"/></a>"
      ]
    },
    {
      "metadata": {
        "id": "H-Q3SEGaUXWW",
        "colab_type": "code",
        "colab": {}
      },
      "cell_type": "code",
      "source": [
        "from IPython.display import Image"
      ],
      "execution_count": 0,
      "outputs": []
    },
    {
      "metadata": {
        "id": "qc0qiv4ZEFKV",
        "colab_type": "text"
      },
      "cell_type": "markdown",
      "source": [
        "# Some simple mathematics operations"
      ]
    },
    {
      "metadata": {
        "id": "hM835FZKEIaJ",
        "colab_type": "text"
      },
      "cell_type": "markdown",
      "source": [
        "## +, -, *, /, **, %, //"
      ]
    },
    {
      "metadata": {
        "id": "M4HEGi7ZEORF",
        "colab_type": "code",
        "colab": {}
      },
      "cell_type": "code",
      "source": [
        "a = 5\n",
        "b = 10\n",
        "c = 3\n",
        "d = 2"
      ],
      "execution_count": 0,
      "outputs": []
    },
    {
      "metadata": {
        "id": "2kxVxuijER39",
        "colab_type": "code",
        "outputId": "d104b273-740a-4afe-9d8a-3dee33d87bfb",
        "colab": {
          "base_uri": "https://localhost:8080/",
          "height": 34
        }
      },
      "cell_type": "code",
      "source": [
        "print(f'a + b = {a+b}, ',f'a - b = {a-b}, ', f'a * b = {a*b}, ', f'a / b = {a/b}')"
      ],
      "execution_count": 0,
      "outputs": [
        {
          "output_type": "stream",
          "text": [
            "a + b = 15,  a - b = -5,  a * b = 50,  a / b = 0.5\n"
          ],
          "name": "stdout"
        }
      ]
    },
    {
      "metadata": {
        "id": "1xca1iyAE2kU",
        "colab_type": "text"
      },
      "cell_type": "markdown",
      "source": [
        "## Power"
      ]
    },
    {
      "metadata": {
        "id": "MvGVsygIEWuH",
        "colab_type": "code",
        "outputId": "289c3ebe-d772-4585-ca09-7500762156d3",
        "colab": {
          "base_uri": "https://localhost:8080/",
          "height": 34
        }
      },
      "cell_type": "code",
      "source": [
        "print(f'c ** d = {c**d}')"
      ],
      "execution_count": 0,
      "outputs": [
        {
          "output_type": "stream",
          "text": [
            "c ** d = 9\n"
          ],
          "name": "stdout"
        }
      ]
    },
    {
      "metadata": {
        "id": "rk28HASEGKuE",
        "colab_type": "text"
      },
      "cell_type": "markdown",
      "source": [
        "## Integer remainder"
      ]
    },
    {
      "metadata": {
        "id": "_GfhdkkFE1mt",
        "colab_type": "code",
        "outputId": "330fa49b-3ab4-4eb7-bea7-fedab36611f0",
        "colab": {
          "base_uri": "https://localhost:8080/",
          "height": 34
        }
      },
      "cell_type": "code",
      "source": [
        "print(f'b % a = {b%a}', f\"b %% c = {b%c}\" )"
      ],
      "execution_count": 0,
      "outputs": [
        {
          "output_type": "stream",
          "text": [
            "b % a = 0 b %% c = 1\n"
          ],
          "name": "stdout"
        }
      ]
    },
    {
      "metadata": {
        "id": "gCQS0R9pGO2u",
        "colab_type": "text"
      },
      "cell_type": "markdown",
      "source": [
        "## Integer division"
      ]
    },
    {
      "metadata": {
        "id": "9t4yGHYYGQ4u",
        "colab_type": "code",
        "outputId": "4ae62abf-7b87-4d95-de63-bb2838c4ae13",
        "colab": {
          "base_uri": "https://localhost:8080/",
          "height": 34
        }
      },
      "cell_type": "code",
      "source": [
        "print(f'b // a = {b//a}')"
      ],
      "execution_count": 0,
      "outputs": [
        {
          "output_type": "stream",
          "text": [
            "b // a = 2\n"
          ],
          "name": "stdout"
        }
      ]
    },
    {
      "metadata": {
        "id": "hTcjcQveGsg-",
        "colab_type": "text"
      },
      "cell_type": "markdown",
      "source": [
        "## Complex numbers: and this is why I recommend avoiding naming your variables \"`i`\" or \"`j`\""
      ]
    },
    {
      "metadata": {
        "id": "VL9rxmi_GuNU",
        "colab_type": "code",
        "outputId": "848c77a5-f390-4ef7-d2e4-a1d400bc6d3d",
        "colab": {
          "base_uri": "https://localhost:8080/",
          "height": 34
        }
      },
      "cell_type": "code",
      "source": [
        "print(1 + 5j)"
      ],
      "execution_count": 0,
      "outputs": [
        {
          "output_type": "stream",
          "text": [
            "(1+5j)\n"
          ],
          "name": "stdout"
        }
      ]
    },
    {
      "metadata": {
        "id": "TmiKwGlNSbk_",
        "colab_type": "text"
      },
      "cell_type": "markdown",
      "source": [
        "# List: look, it is a list\n",
        "\n",
        "## There is another class named \"tuple\", and tuples are just lists, except that they are harder to manipulate at the element level. If you want to have a list that does not change over iterations, it is better to go with tuples."
      ]
    },
    {
      "metadata": {
        "id": "YElW8lI9ShCr",
        "colab_type": "text"
      },
      "cell_type": "markdown",
      "source": [
        "## You can make a list with \"[ ]\" or \"list()\". The difference between them is that one is an implicit function, while the other is an explicit function."
      ]
    },
    {
      "metadata": {
        "id": "kVr3xDoKSYE5",
        "colab_type": "code",
        "outputId": "fa18dd15-2f3f-461f-ed37-c986d7b1ea10",
        "colab": {
          "base_uri": "https://localhost:8080/",
          "height": 52
        }
      },
      "cell_type": "code",
      "source": [
        "list_1 = [1,2,3,4,5]\n",
        "list_2 = list((1,2,3,4,5))\n",
        "print(type(list_1),type(list_2))\n",
        "print('list_1: ',list_1,'list_2: ',list_2)"
      ],
      "execution_count": 0,
      "outputs": [
        {
          "output_type": "stream",
          "text": [
            "<class 'list'> <class 'list'>\n",
            "list_1:  [1, 2, 3, 4, 5] list_2:  [1, 2, 3, 4, 5]\n"
          ],
          "name": "stdout"
        }
      ]
    },
    {
      "metadata": {
        "id": "xKWEO6xMTQ-O",
        "colab_type": "text"
      },
      "cell_type": "markdown",
      "source": [
        "## Arbitrariness of a list: it does not matter what you put into the list as long as you keep them a list"
      ]
    },
    {
      "metadata": {
        "id": "UfQxx3JeTULG",
        "colab_type": "code",
        "outputId": "e724eb94-7426-4c15-b4b8-efe6028abe5d",
        "colab": {
          "base_uri": "https://localhost:8080/",
          "height": 34
        }
      },
      "cell_type": "code",
      "source": [
        "list_3 = [1,'p',set(),'1',[8373,9],['f']]\n",
        "print(list_3)"
      ],
      "execution_count": 0,
      "outputs": [
        {
          "output_type": "stream",
          "text": [
            "[1, 'p', set(), '1', [8373, 9], ['f']]\n"
          ],
          "name": "stdout"
        }
      ]
    },
    {
      "metadata": {
        "id": "xItqOi3lTH6-",
        "colab_type": "text"
      },
      "cell_type": "markdown",
      "source": [
        "## List index: how do you access an element in the list? It is important to note that counting in python starts with \"0\", in other words, the first position of a list is \"0\".\n",
        "\n",
        "## However, the last position is \"-1\"."
      ]
    },
    {
      "metadata": {
        "id": "HxXTEf_9TG2e",
        "colab_type": "code",
        "colab": {}
      },
      "cell_type": "code",
      "source": [
        "my_list = ['p','r','o','b','e']"
      ],
      "execution_count": 0,
      "outputs": []
    },
    {
      "metadata": {
        "id": "CYbLMTjVSzTS",
        "colab_type": "code",
        "outputId": "9dea2643-771e-4f67-d503-880b8d56ea9d",
        "colab": {
          "base_uri": "https://localhost:8080/",
          "height": 52
        }
      },
      "cell_type": "code",
      "source": [
        "print(my_list[0])\n",
        "print(my_list[-1])"
      ],
      "execution_count": 0,
      "outputs": [
        {
          "output_type": "stream",
          "text": [
            "p\n",
            "e\n"
          ],
          "name": "stdout"
        }
      ]
    },
    {
      "metadata": {
        "id": "DiEtyXEkTvgJ",
        "colab_type": "code",
        "colab": {}
      },
      "cell_type": "code",
      "source": [
        "nested_list = [\"Happy\", [2,0,1,5]]"
      ],
      "execution_count": 0,
      "outputs": []
    },
    {
      "metadata": {
        "id": "U_6boZEJT9mb",
        "colab_type": "code",
        "outputId": "e2df1fca-9121-469d-87df-da29db08a4a1",
        "colab": {
          "base_uri": "https://localhost:8080/",
          "height": 34
        }
      },
      "cell_type": "code",
      "source": [
        "print(nested_list[0][1])   "
      ],
      "execution_count": 0,
      "outputs": [
        {
          "output_type": "stream",
          "text": [
            "a\n"
          ],
          "name": "stdout"
        }
      ]
    },
    {
      "metadata": {
        "id": "I3RvpQgVUB3E",
        "colab_type": "text"
      },
      "cell_type": "markdown",
      "source": [
        "### Negative indexing"
      ]
    },
    {
      "metadata": {
        "id": "CvJBXqREUAYu",
        "colab_type": "code",
        "outputId": "eee10cd1-599a-4b2e-de6b-4db24a868229",
        "colab": {
          "base_uri": "https://localhost:8080/",
          "height": 69
        }
      },
      "cell_type": "code",
      "source": [
        "try:\n",
        "    print(my_list[-1])\n",
        "    print(my_list[-5])\n",
        "    print(my_list[-10])\n",
        "except Exception as e:\n",
        "    print('Error!! ',e)"
      ],
      "execution_count": 0,
      "outputs": [
        {
          "output_type": "stream",
          "text": [
            "e\n",
            "p\n",
            "Error!!  list index out of range\n"
          ],
          "name": "stdout"
        }
      ]
    },
    {
      "metadata": {
        "id": "B3YN-XipUMnq",
        "colab_type": "text"
      },
      "cell_type": "markdown",
      "source": [
        "## Slicing the lists: getting a subset of the list's elements"
      ]
    },
    {
      "metadata": {
        "id": "YIGPnKVsUHR_",
        "colab_type": "code",
        "outputId": "7bbefec4-09ba-4336-c5cb-ab1c3f589206",
        "colab": {
          "base_uri": "https://localhost:8080/",
          "height": 86
        }
      },
      "cell_type": "code",
      "source": [
        "my_list = ['p','r','o','g','r','a','m','i','z']\n",
        "# elements 3rd to 5th\n",
        "print(my_list[2:5])\n",
        "\n",
        "# elements beginning to 4th\n",
        "print(my_list[:-5])\n",
        "\n",
        "# elements 6th to end\n",
        "print(my_list[5:])\n",
        "\n",
        "# elements beginning to end\n",
        "print(my_list[:])"
      ],
      "execution_count": 0,
      "outputs": [
        {
          "output_type": "stream",
          "text": [
            "['o', 'g', 'r']\n",
            "['p', 'r', 'o', 'g']\n",
            "['a', 'm', 'i', 'z']\n",
            "['p', 'r', 'o', 'g', 'r', 'a', 'm', 'i', 'z']\n"
          ],
          "name": "stdout"
        }
      ]
    },
    {
      "metadata": {
        "id": "wjNaoFq-UUS9",
        "colab_type": "code",
        "outputId": "4ef767ec-d95c-4e03-d7dd-70b1fe50035f",
        "colab": {
          "base_uri": "https://localhost:8080/",
          "height": 140
        }
      },
      "cell_type": "code",
      "source": [
        "Image(url='https://cdn.programiz.com/sites/tutorial2program/files/element-slicling.jpg')"
      ],
      "execution_count": 0,
      "outputs": [
        {
          "output_type": "execute_result",
          "data": {
            "text/html": [
              "<img src=\"https://cdn.programiz.com/sites/tutorial2program/files/element-slicling.jpg\"/>"
            ],
            "text/plain": [
              "<IPython.core.display.Image object>"
            ]
          },
          "metadata": {
            "tags": []
          },
          "execution_count": 87
        }
      ]
    },
    {
      "metadata": {
        "id": "q7jjbOHPUfW2",
        "colab_type": "text"
      },
      "cell_type": "markdown",
      "source": [
        "## Change or add elements to a list"
      ]
    },
    {
      "metadata": {
        "id": "wNC7pr2vUcUU",
        "colab_type": "code",
        "outputId": "1b60f1ce-eebf-42b0-a499-2d8f7c02bfed",
        "colab": {
          "base_uri": "https://localhost:8080/",
          "height": 52
        }
      },
      "cell_type": "code",
      "source": [
        "# mistake values\n",
        "odd = [2, 4, 6, 8]\n",
        "\n",
        "# change the 1st item    \n",
        "odd[0] = 1            \n",
        "\n",
        "# Output: [1, 4, 6, 8]\n",
        "print(odd)\n",
        "\n",
        "# change 2nd to 4th items\n",
        "odd[1:4] = [3, 5, 7]  \n",
        "\n",
        "# Output: [1, 3, 5, 7]\n",
        "print(odd)                   "
      ],
      "execution_count": 0,
      "outputs": [
        {
          "output_type": "stream",
          "text": [
            "[1, 4, 6, 8]\n",
            "[1, 3, 5, 7]\n"
          ],
          "name": "stdout"
        }
      ]
    },
    {
      "metadata": {
        "id": "6boyi0G_Us-6",
        "colab_type": "text"
      },
      "cell_type": "markdown",
      "source": [
        "### Append: this the language of \"adding\""
      ]
    },
    {
      "metadata": {
        "id": "iXrQQiAUUoqa",
        "colab_type": "code",
        "outputId": "00556cb8-77e3-4f05-8d16-fcbc1c919a40",
        "colab": {
          "base_uri": "https://localhost:8080/",
          "height": 52
        }
      },
      "cell_type": "code",
      "source": [
        "odd = [1, 3, 5]\n",
        "\n",
        "odd.append(7)\n",
        "\n",
        "# Output: [1, 3, 5, 7]\n",
        "print(odd)\n",
        "\n",
        "odd.extend([9, 11, 13])\n",
        "\n",
        "# Output: [1, 3, 5, 7, 9, 11, 13]\n",
        "print(odd)"
      ],
      "execution_count": 0,
      "outputs": [
        {
          "output_type": "stream",
          "text": [
            "[1, 3, 5, 7]\n",
            "[1, 3, 5, 7, 9, 11, 13]\n"
          ],
          "name": "stdout"
        }
      ]
    },
    {
      "metadata": {
        "id": "phXB10REU1MT",
        "colab_type": "text"
      },
      "cell_type": "markdown",
      "source": [
        "### There are more explicit ways: \"+\" and \"*\" operations"
      ]
    },
    {
      "metadata": {
        "id": "quFd69cxUxUy",
        "colab_type": "code",
        "outputId": "200ec413-5fb5-4488-96ab-a4f6488d718d",
        "colab": {
          "base_uri": "https://localhost:8080/",
          "height": 52
        }
      },
      "cell_type": "code",
      "source": [
        "odd = [1, 3, 5]\n",
        "\n",
        "# Output: [1, 3, 5, 9, 7, 5]\n",
        "print(odd + [9, 7, 5])\n",
        "\n",
        "#Output: [\"re\", \"re\", \"re\"]\n",
        "print([\"re\"] * 3)"
      ],
      "execution_count": 0,
      "outputs": [
        {
          "output_type": "stream",
          "text": [
            "[1, 3, 5, 9, 7, 5]\n",
            "['re', 're', 're']\n"
          ],
          "name": "stdout"
        }
      ]
    },
    {
      "metadata": {
        "id": "BEXuMg3qVEG9",
        "colab_type": "text"
      },
      "cell_type": "markdown",
      "source": [
        "## Remove elements from a list"
      ]
    },
    {
      "metadata": {
        "id": "u5oMrTGhU8x6",
        "colab_type": "code",
        "outputId": "2b121b20-3208-48a0-b88a-66d9d0520479",
        "colab": {
          "base_uri": "https://localhost:8080/",
          "height": 69
        }
      },
      "cell_type": "code",
      "source": [
        "# Output: ['p', 'r', 'b', 'l', 'e', 'm']     \n",
        "my_list = ['p', 'r', 'b', 'l', 'e', 'm'] \n",
        "print(my_list)\n",
        "\n",
        "# delete multiple items\n",
        "del my_list[1:5]  \n",
        "\n",
        "# Output: ['p', 'm']\n",
        "print(my_list)\n",
        "\n",
        "# delete entire list\n",
        "del my_list       \n",
        "\n",
        "# Error: List not defined\n",
        "try:\n",
        "    print(my_list)\n",
        "except Exception as e:\n",
        "    print(e)"
      ],
      "execution_count": 0,
      "outputs": [
        {
          "output_type": "stream",
          "text": [
            "['p', 'r', 'b', 'l', 'e', 'm']\n",
            "['p', 'm']\n",
            "name 'my_list' is not defined\n"
          ],
          "name": "stdout"
        }
      ]
    },
    {
      "metadata": {
        "id": "sMMVfvpqVRFI",
        "colab_type": "text"
      },
      "cell_type": "markdown",
      "source": [
        "The error occurs because we deleted \"my_list\""
      ]
    },
    {
      "metadata": {
        "id": "rGYMwABBVXhF",
        "colab_type": "text"
      },
      "cell_type": "markdown",
      "source": [
        "### We can also use `remove()` or `pop()`\n",
        "\n",
        "### `pop()` removes and returns the last item if the index is not provided\n",
        "\n",
        "### `clear()` can also be used to empty a list"
      ]
    },
    {
      "metadata": {
        "id": "nRJurVxRVIUJ",
        "colab_type": "code",
        "outputId": "0471dd04-8cd2-4809-c30a-282ac5f4b904",
        "colab": {
          "base_uri": "https://localhost:8080/",
          "height": 86
        }
      },
      "cell_type": "code",
      "source": [
        "my_list = ['p','r','o','b','l','e','m']\n",
        "my_list.remove('p')\n",
        "\n",
        "# Output: ['r', 'o', 'b', 'l', 'e', 'm']\n",
        "print(my_list)\n",
        "\n",
        "# Output: 'o'\n",
        "print(my_list.pop(1))\n",
        "\n",
        "# Output: ['r', 'b', 'l', 'e', 'm']\n",
        "print(my_list)\n",
        "\n",
        "# Output: 'm'\n",
        "print(my_list.pop())"
      ],
      "execution_count": 0,
      "outputs": [
        {
          "output_type": "stream",
          "text": [
            "['r', 'o', 'b', 'l', 'e', 'm']\n",
            "o\n",
            "['r', 'b', 'l', 'e', 'm']\n",
            "m\n"
          ],
          "name": "stdout"
        }
      ]
    },
    {
      "metadata": {
        "id": "leGdVlSfVy50",
        "colab_type": "text"
      },
      "cell_type": "markdown",
      "source": [
        "## 2 more useful list methods: `sort()` and `reverse()`"
      ]
    },
    {
      "metadata": {
        "id": "j_keb4RmVsLU",
        "colab_type": "code",
        "outputId": "82e6179e-ebf6-410a-8128-e1fa9735fa2b",
        "colab": {
          "base_uri": "https://localhost:8080/",
          "height": 69
        }
      },
      "cell_type": "code",
      "source": [
        "my_list = [3, 8, 1, 6, 0, 8, 4]\n",
        "\n",
        "print('original: ',my_list)\n",
        "my_list.sort()\n",
        "print('sorted: ',my_list)\n",
        "my_list.reverse()\n",
        "print('reverse of the sorted',my_list)"
      ],
      "execution_count": 0,
      "outputs": [
        {
          "output_type": "stream",
          "text": [
            "original:  [3, 8, 1, 6, 0, 8, 4]\n",
            "sorted:  [0, 1, 3, 4, 6, 8, 8]\n",
            "reverse of the sorted [8, 8, 6, 4, 3, 1, 0]\n"
          ],
          "name": "stdout"
        }
      ]
    },
    {
      "metadata": {
        "id": "Gu_TiUTpWUNl",
        "colab_type": "text"
      },
      "cell_type": "markdown",
      "source": [
        "### Important: list methods are applied to the list directly and is not reversable"
      ]
    },
    {
      "metadata": {
        "id": "j81xNJNXZpQt",
        "colab_type": "text"
      },
      "cell_type": "markdown",
      "source": [
        "## List comprehension: elegant way to create new lists, aka, one-liner for-loop"
      ]
    },
    {
      "metadata": {
        "id": "ALryoZyNWEnj",
        "colab_type": "code",
        "outputId": "4bdc547a-d6e3-4b4c-ed17-d4eef26c66eb",
        "colab": {
          "base_uri": "https://localhost:8080/",
          "height": 34
        }
      },
      "cell_type": "code",
      "source": [
        "pow2 = [2 ** x for x in range(10)] # reads as: for values from 0 to 9, compute 2 to the power of values\n",
        "print(pow2)"
      ],
      "execution_count": 0,
      "outputs": [
        {
          "output_type": "stream",
          "text": [
            "[1, 2, 4, 8, 16, 32, 64, 128, 256, 512]\n"
          ],
          "name": "stdout"
        }
      ]
    },
    {
      "metadata": {
        "id": "DtpjH1GcZueN",
        "colab_type": "code",
        "outputId": "01eee183-68bd-47ef-9184-0b2b02122a95",
        "colab": {
          "base_uri": "https://localhost:8080/",
          "height": 34
        }
      },
      "cell_type": "code",
      "source": [
        "pow2 = []\n",
        "for x in range(10):\n",
        "    pow2.append(2 ** x)\n",
        "print(pow2)"
      ],
      "execution_count": 0,
      "outputs": [
        {
          "output_type": "stream",
          "text": [
            "[1, 2, 4, 8, 16, 32, 64, 128, 256, 512]\n"
          ],
          "name": "stdout"
        }
      ]
    },
    {
      "metadata": {
        "id": "CaGjpSNeZ4Vx",
        "colab_type": "text"
      },
      "cell_type": "markdown",
      "source": [
        "### Nested with if-statement"
      ]
    },
    {
      "metadata": {
        "id": "J6zyK7BkZyvH",
        "colab_type": "code",
        "outputId": "de664dc1-25d1-4a98-9232-7416daed649d",
        "colab": {
          "base_uri": "https://localhost:8080/",
          "height": 34
        }
      },
      "cell_type": "code",
      "source": [
        "odd = [x for x in range(20) if x % 2 == 1]\n",
        "print(odd)"
      ],
      "execution_count": 0,
      "outputs": [
        {
          "output_type": "stream",
          "text": [
            "[1, 3, 5, 7, 9, 11, 13, 15, 17, 19]\n"
          ],
          "name": "stdout"
        }
      ]
    },
    {
      "metadata": {
        "id": "5ZJAFrL8aB2F",
        "colab_type": "text"
      },
      "cell_type": "markdown",
      "source": [
        "## Check if an element is in the list"
      ]
    },
    {
      "metadata": {
        "id": "ijgKjd-FZ6_-",
        "colab_type": "code",
        "outputId": "6f255ad8-78a9-473e-a167-ed40ec5c0b57",
        "colab": {
          "base_uri": "https://localhost:8080/",
          "height": 69
        }
      },
      "cell_type": "code",
      "source": [
        "my_list = ['p','r','o','b','l','e','m']\n",
        "\n",
        "# Output: True\n",
        "print(\"'p' in my_list:\",'p' in my_list)\n",
        "\n",
        "# Output: False\n",
        "print(\"'a' in my_list: \",'a' in my_list)\n",
        "\n",
        "# Output: True\n",
        "print(\"'c' not in my_list\",'c' not in my_list)"
      ],
      "execution_count": 0,
      "outputs": [
        {
          "output_type": "stream",
          "text": [
            "'p' in my_list: True\n",
            "'a' in my_list:  False\n",
            "'c' not in my_list True\n"
          ],
          "name": "stdout"
        }
      ]
    },
    {
      "metadata": {
        "id": "d9Og-hSuaSAm",
        "colab_type": "text"
      },
      "cell_type": "markdown",
      "source": [
        "## for-loop and list"
      ]
    },
    {
      "metadata": {
        "id": "YUEsOl-oaNcL",
        "colab_type": "code",
        "outputId": "9f9c3540-046f-48ad-8642-804b2e541594",
        "colab": {
          "base_uri": "https://localhost:8080/",
          "height": 69
        }
      },
      "cell_type": "code",
      "source": [
        "for fruit in ['apple','banana','mango']:\n",
        "    print(\"I like\",fruit)"
      ],
      "execution_count": 0,
      "outputs": [
        {
          "output_type": "stream",
          "text": [
            "I like apple\n",
            "I like banana\n",
            "I like mango\n"
          ],
          "name": "stdout"
        }
      ]
    },
    {
      "metadata": {
        "id": "3i33WCTZaW8w",
        "colab_type": "text"
      },
      "cell_type": "markdown",
      "source": [
        "## Advanced list operation: `all()`, `any()`, `enumerate()`, `len()`"
      ]
    },
    {
      "metadata": {
        "id": "6HxIGdzsaUNd",
        "colab_type": "code",
        "outputId": "28491b27-b611-4ced-ccc2-40515e122da2",
        "colab": {
          "base_uri": "https://localhost:8080/",
          "height": 52
        }
      },
      "cell_type": "code",
      "source": [
        "my_conditions = [True,True,False]\n",
        "\n",
        "# are all conditions True?\n",
        "print(all(my_conditions))\n",
        "# are any conditions True?\n",
        "print(any(my_conditions))"
      ],
      "execution_count": 0,
      "outputs": [
        {
          "output_type": "stream",
          "text": [
            "False\n",
            "True\n"
          ],
          "name": "stdout"
        }
      ]
    },
    {
      "metadata": {
        "id": "jj2FWUKTHYMx",
        "colab_type": "text"
      },
      "cell_type": "markdown",
      "source": [
        "## enumerator and iterator: `enumerate()` is an enumerator that can wrap around an iterator such as a list, so that you can iterate not only through the items in this list but also the index numbers of the items"
      ]
    },
    {
      "metadata": {
        "id": "DrnAYNaYanwl",
        "colab_type": "code",
        "outputId": "737e0bae-83e0-4736-d14d-d26433672f74",
        "colab": {
          "base_uri": "https://localhost:8080/",
          "height": 121
        }
      },
      "cell_type": "code",
      "source": [
        "for ii,element in enumerate(['a','b','c','d','e','f']):\n",
        "    print(ii,element)"
      ],
      "execution_count": 0,
      "outputs": [
        {
          "output_type": "stream",
          "text": [
            "0 a\n",
            "1 b\n",
            "2 c\n",
            "3 d\n",
            "4 e\n",
            "5 f\n"
          ],
          "name": "stdout"
        }
      ]
    },
    {
      "metadata": {
        "id": "pDstGarKa36p",
        "colab_type": "text"
      },
      "cell_type": "markdown",
      "source": [
        "# Set: they are good for comprehending Venn diagrams"
      ]
    },
    {
      "metadata": {
        "id": "lVj3iykqa1Xe",
        "colab_type": "code",
        "outputId": "00aa0d79-c401-48a5-b719-9544e4ae7424",
        "colab": {
          "base_uri": "https://localhost:8080/",
          "height": 34
        }
      },
      "cell_type": "code",
      "source": [
        "my_set = set([1,2,3]) # convert a list to a set\n",
        "print(my_set)"
      ],
      "execution_count": 0,
      "outputs": [
        {
          "output_type": "stream",
          "text": [
            "{1, 2, 3}\n"
          ],
          "name": "stdout"
        }
      ]
    },
    {
      "metadata": {
        "id": "hVQajQzcbgFJ",
        "colab_type": "text"
      },
      "cell_type": "markdown",
      "source": [
        "As you can see, a set is contained by \"{}\", and you can create a set by directly {1,2,3}. But I don't recommend that. Explicitly calling function `set()`  avoids the confusion between sets and dictionaries (will be introduced below)"
      ]
    },
    {
      "metadata": {
        "id": "ep01UumzbI85",
        "colab_type": "code",
        "outputId": "2c8d3925-3217-49e6-fd20-7bff3786464b",
        "colab": {
          "base_uri": "https://localhost:8080/",
          "height": 34
        }
      },
      "cell_type": "code",
      "source": [
        "# set of mixed datatypes\n",
        "my_set = {1.0, \"Hello\", (1, 2, 3)}\n",
        "print(my_set)"
      ],
      "execution_count": 0,
      "outputs": [
        {
          "output_type": "stream",
          "text": [
            "{1.0, 'Hello', (1, 2, 3)}\n"
          ],
          "name": "stdout"
        }
      ]
    },
    {
      "metadata": {
        "id": "Iq3-lRdibTD4",
        "colab_type": "text"
      },
      "cell_type": "markdown",
      "source": [
        "## Sets do not have duplicates"
      ]
    },
    {
      "metadata": {
        "id": "8kopSCcAbO8h",
        "colab_type": "code",
        "outputId": "7c882ce3-44cf-40a7-a4d5-fecd10dc6833",
        "colab": {
          "base_uri": "https://localhost:8080/",
          "height": 34
        }
      },
      "cell_type": "code",
      "source": [
        "my_set = {1,2,3,4,3,2}\n",
        "print(my_set)"
      ],
      "execution_count": 0,
      "outputs": [
        {
          "output_type": "stream",
          "text": [
            "{1, 2, 3, 4}\n"
          ],
          "name": "stdout"
        }
      ]
    },
    {
      "metadata": {
        "id": "0EcfjEembyq6",
        "colab_type": "text"
      },
      "cell_type": "markdown",
      "source": [
        "## Manipulate sets"
      ]
    },
    {
      "metadata": {
        "id": "fuRbPB69bWvl",
        "colab_type": "code",
        "outputId": "10c49d96-241f-4cdb-b4c7-604efb7233ed",
        "colab": {
          "base_uri": "https://localhost:8080/",
          "height": 86
        }
      },
      "cell_type": "code",
      "source": [
        "# initialize my_set\n",
        "my_set = {1,3}\n",
        "print(my_set)\n",
        "\n",
        "# if you uncomment line 9,\n",
        "# you will get an error\n",
        "# TypeError: 'set' object does not support indexing\n",
        "\n",
        "#my_set[0]\n",
        "\n",
        "# add an element\n",
        "# Output: {1, 2, 3}\n",
        "my_set.add(2)\n",
        "print(my_set)\n",
        "\n",
        "# add multiple elements\n",
        "# Output: {1, 2, 3, 4}\n",
        "my_set.update([2,3,4])\n",
        "print(my_set)\n",
        "\n",
        "# add list and set\n",
        "# Output: {1, 2, 3, 4, 5, 6, 8}\n",
        "my_set.update([4,5], {1,6,8})\n",
        "print(my_set)"
      ],
      "execution_count": 0,
      "outputs": [
        {
          "output_type": "stream",
          "text": [
            "{1, 3}\n",
            "{1, 2, 3}\n",
            "{1, 2, 3, 4}\n",
            "{1, 2, 3, 4, 5, 6, 8}\n"
          ],
          "name": "stdout"
        }
      ]
    },
    {
      "metadata": {
        "id": "mZh3l0nkb1F5",
        "colab_type": "code",
        "outputId": "8076b142-bec4-4285-833f-ba0b52b46d58",
        "colab": {
          "base_uri": "https://localhost:8080/",
          "height": 86
        }
      },
      "cell_type": "code",
      "source": [
        "# initialize my_set\n",
        "my_set = {1, 3, 4, 5, 6}\n",
        "print(my_set)\n",
        "\n",
        "# discard an element\n",
        "# Output: {1, 3, 5, 6}\n",
        "my_set.discard(4)\n",
        "print(my_set)\n",
        "\n",
        "# remove an element\n",
        "# Output: {1, 3, 5}\n",
        "my_set.remove(6)\n",
        "print(my_set)\n",
        "\n",
        "# discard an element\n",
        "# not present in my_set\n",
        "# Output: {1, 3, 5}\n",
        "my_set.discard(2)\n",
        "print(my_set)\n",
        "\n",
        "# remove an element\n",
        "# not present in my_set\n",
        "# If you uncomment line 27,\n",
        "# you will get an error.\n",
        "# Output: KeyError: 2\n",
        "\n",
        "#my_set.remove(2)"
      ],
      "execution_count": 0,
      "outputs": [
        {
          "output_type": "stream",
          "text": [
            "{1, 3, 4, 5, 6}\n",
            "{1, 3, 5, 6}\n",
            "{1, 3, 5}\n",
            "{1, 3, 5}\n"
          ],
          "name": "stdout"
        }
      ]
    },
    {
      "metadata": {
        "id": "HjKmoOv1b3sQ",
        "colab_type": "code",
        "outputId": "d4b6de14-aebb-42aa-bb36-bb36a8072bd2",
        "colab": {
          "base_uri": "https://localhost:8080/",
          "height": 86
        }
      },
      "cell_type": "code",
      "source": [
        "# initialize my_set\n",
        "# Output: set of unique elements\n",
        "my_set = set(\"HelloWorld\")\n",
        "print(my_set)\n",
        "\n",
        "# pop an element\n",
        "# Output: random element\n",
        "print(my_set.pop())\n",
        "\n",
        "# pop another element\n",
        "# Output: random element\n",
        "my_set.pop()\n",
        "print(my_set)\n",
        "\n",
        "# clear my_set\n",
        "#Output: set()\n",
        "my_set.clear()\n",
        "print(my_set)"
      ],
      "execution_count": 0,
      "outputs": [
        {
          "output_type": "stream",
          "text": [
            "{'o', 'l', 'e', 'd', 'H', 'W', 'r'}\n",
            "o\n",
            "{'e', 'd', 'H', 'W', 'r'}\n",
            "set()\n"
          ],
          "name": "stdout"
        }
      ]
    },
    {
      "metadata": {
        "id": "FOGgp7Ktb70p",
        "colab_type": "text"
      },
      "cell_type": "markdown",
      "source": [
        "## Set operations"
      ]
    },
    {
      "metadata": {
        "id": "2b-kaZCKb6AC",
        "colab_type": "code",
        "colab": {}
      },
      "cell_type": "code",
      "source": [
        "A = {1, 2, 3, 4, 5}\n",
        "B = {4, 5, 6, 7, 8}"
      ],
      "execution_count": 0,
      "outputs": []
    },
    {
      "metadata": {
        "id": "Tn8wFeMQcLWU",
        "colab_type": "text"
      },
      "cell_type": "markdown",
      "source": [
        "### Union: can be operated by \" | \", but I don't recommend this"
      ]
    },
    {
      "metadata": {
        "id": "qeMEs8Iqb_gD",
        "colab_type": "code",
        "outputId": "63d347f5-e172-45a0-efbb-7509eb365ca3",
        "colab": {
          "base_uri": "https://localhost:8080/",
          "height": 285
        }
      },
      "cell_type": "code",
      "source": [
        "Image(url = 'https://cdn.programiz.com/sites/tutorial2program/files/set-union.jpg')"
      ],
      "execution_count": 0,
      "outputs": [
        {
          "output_type": "execute_result",
          "data": {
            "text/html": [
              "<img src=\"https://cdn.programiz.com/sites/tutorial2program/files/set-union.jpg\"/>"
            ],
            "text/plain": [
              "<IPython.core.display.Image object>"
            ]
          },
          "metadata": {
            "tags": []
          },
          "execution_count": 108
        }
      ]
    },
    {
      "metadata": {
        "id": "8i8Tr3OAcChJ",
        "colab_type": "code",
        "outputId": "e856694a-f717-4937-85c8-31a1847a0100",
        "colab": {
          "base_uri": "https://localhost:8080/",
          "height": 34
        }
      },
      "cell_type": "code",
      "source": [
        "A.union(B)"
      ],
      "execution_count": 0,
      "outputs": [
        {
          "output_type": "execute_result",
          "data": {
            "text/plain": [
              "{1, 2, 3, 4, 5, 6, 7, 8}"
            ]
          },
          "metadata": {
            "tags": []
          },
          "execution_count": 109
        }
      ]
    },
    {
      "metadata": {
        "id": "EQkBg4pkcHp2",
        "colab_type": "code",
        "outputId": "621b0737-c6f9-4f72-a2b3-8d78ca5c2992",
        "colab": {
          "base_uri": "https://localhost:8080/",
          "height": 34
        }
      },
      "cell_type": "code",
      "source": [
        "B.union(A)"
      ],
      "execution_count": 0,
      "outputs": [
        {
          "output_type": "execute_result",
          "data": {
            "text/plain": [
              "{1, 2, 3, 4, 5, 6, 7, 8}"
            ]
          },
          "metadata": {
            "tags": []
          },
          "execution_count": 110
        }
      ]
    },
    {
      "metadata": {
        "id": "zatyCqPKcNIv",
        "colab_type": "text"
      },
      "cell_type": "markdown",
      "source": [
        "### Intersection: can be operated by \"&\", but I don't recommended this"
      ]
    },
    {
      "metadata": {
        "id": "SYAjvnQQcsju",
        "colab_type": "code",
        "outputId": "8708e05f-7c3f-4379-b8e5-f230ba4ec413",
        "colab": {
          "base_uri": "https://localhost:8080/",
          "height": 283
        }
      },
      "cell_type": "code",
      "source": [
        "Image(url='https://cdn.programiz.com/sites/tutorial2program/files/set-intersection.jpg')"
      ],
      "execution_count": 0,
      "outputs": [
        {
          "output_type": "execute_result",
          "data": {
            "text/html": [
              "<img src=\"https://cdn.programiz.com/sites/tutorial2program/files/set-intersection.jpg\"/>"
            ],
            "text/plain": [
              "<IPython.core.display.Image object>"
            ]
          },
          "metadata": {
            "tags": []
          },
          "execution_count": 111
        }
      ]
    },
    {
      "metadata": {
        "id": "rs1iUli-cJYC",
        "colab_type": "code",
        "colab": {}
      },
      "cell_type": "code",
      "source": [
        "# initialize A and B\n",
        "A = {1, 2, 3, 4, 5}\n",
        "B = {4, 5, 6, 7, 8}"
      ],
      "execution_count": 0,
      "outputs": []
    },
    {
      "metadata": {
        "id": "V6blz-ZycT7-",
        "colab_type": "code",
        "outputId": "8a14e524-e7c4-41a3-b698-744ed201b4e2",
        "colab": {
          "base_uri": "https://localhost:8080/",
          "height": 34
        }
      },
      "cell_type": "code",
      "source": [
        "A.intersection(B)"
      ],
      "execution_count": 0,
      "outputs": [
        {
          "output_type": "execute_result",
          "data": {
            "text/plain": [
              "{4, 5}"
            ]
          },
          "metadata": {
            "tags": []
          },
          "execution_count": 113
        }
      ]
    },
    {
      "metadata": {
        "id": "NbXbGX4rcarp",
        "colab_type": "code",
        "outputId": "d3622c8d-45cb-41b1-9de1-e41415245a6c",
        "colab": {
          "base_uri": "https://localhost:8080/",
          "height": 34
        }
      },
      "cell_type": "code",
      "source": [
        "B.intersection(A)"
      ],
      "execution_count": 0,
      "outputs": [
        {
          "output_type": "execute_result",
          "data": {
            "text/plain": [
              "{4, 5}"
            ]
          },
          "metadata": {
            "tags": []
          },
          "execution_count": 114
        }
      ]
    },
    {
      "metadata": {
        "id": "fXuRNUPtcf1u",
        "colab_type": "text"
      },
      "cell_type": "markdown",
      "source": [
        "### Difference: can be operated by \"-\", but I don't recommend this"
      ]
    },
    {
      "metadata": {
        "id": "hLo9zZ5dcpUB",
        "colab_type": "code",
        "outputId": "3ee766cc-125a-4e18-8bdb-ba3c60db1987",
        "colab": {
          "base_uri": "https://localhost:8080/",
          "height": 284
        }
      },
      "cell_type": "code",
      "source": [
        "Image(url='https://cdn.programiz.com/sites/tutorial2program/files/set-difference.jpg')"
      ],
      "execution_count": 0,
      "outputs": [
        {
          "output_type": "execute_result",
          "data": {
            "text/html": [
              "<img src=\"https://cdn.programiz.com/sites/tutorial2program/files/set-difference.jpg\"/>"
            ],
            "text/plain": [
              "<IPython.core.display.Image object>"
            ]
          },
          "metadata": {
            "tags": []
          },
          "execution_count": 115
        }
      ]
    },
    {
      "metadata": {
        "id": "54YAhj4RcdVX",
        "colab_type": "code",
        "colab": {}
      },
      "cell_type": "code",
      "source": [
        "# initialize A and B\n",
        "A = {1, 2, 3, 4, 5}\n",
        "B = {4, 5, 6, 7, 8}"
      ],
      "execution_count": 0,
      "outputs": []
    },
    {
      "metadata": {
        "id": "sEKqjB4icmcz",
        "colab_type": "code",
        "outputId": "2745f8c7-8504-48be-8b1d-7f729015cb39",
        "colab": {
          "base_uri": "https://localhost:8080/",
          "height": 34
        }
      },
      "cell_type": "code",
      "source": [
        "A.difference(B)"
      ],
      "execution_count": 0,
      "outputs": [
        {
          "output_type": "execute_result",
          "data": {
            "text/plain": [
              "{1, 2, 3}"
            ]
          },
          "metadata": {
            "tags": []
          },
          "execution_count": 117
        }
      ]
    },
    {
      "metadata": {
        "id": "obyMcgoec09l",
        "colab_type": "code",
        "outputId": "8a60095e-6145-4e30-c4f6-cee3ad717757",
        "colab": {
          "base_uri": "https://localhost:8080/",
          "height": 34
        }
      },
      "cell_type": "code",
      "source": [
        "B.difference(A)"
      ],
      "execution_count": 0,
      "outputs": [
        {
          "output_type": "execute_result",
          "data": {
            "text/plain": [
              "{6, 7, 8}"
            ]
          },
          "metadata": {
            "tags": []
          },
          "execution_count": 118
        }
      ]
    },
    {
      "metadata": {
        "id": "j38jD75vc6Ug",
        "colab_type": "text"
      },
      "cell_type": "markdown",
      "source": [
        "### Symmetric difference: can be operated by \"^\", but I don't recommend this"
      ]
    },
    {
      "metadata": {
        "id": "KqJTkqLyc2py",
        "colab_type": "code",
        "outputId": "b1eeb98e-8832-4001-f900-71e233894ea1",
        "colab": {
          "base_uri": "https://localhost:8080/",
          "height": 277
        }
      },
      "cell_type": "code",
      "source": [
        "Image(url='https://cdn.programiz.com/sites/tutorial2program/files/set-symmetric-difference.jpg')"
      ],
      "execution_count": 0,
      "outputs": [
        {
          "output_type": "execute_result",
          "data": {
            "text/html": [
              "<img src=\"https://cdn.programiz.com/sites/tutorial2program/files/set-symmetric-difference.jpg\"/>"
            ],
            "text/plain": [
              "<IPython.core.display.Image object>"
            ]
          },
          "metadata": {
            "tags": []
          },
          "execution_count": 119
        }
      ]
    },
    {
      "metadata": {
        "id": "X1hNlsHZc-J2",
        "colab_type": "code",
        "colab": {}
      },
      "cell_type": "code",
      "source": [
        "# initialize A and B\n",
        "A = {1, 2, 3, 4, 5}\n",
        "B = {4, 5, 6, 7, 8}"
      ],
      "execution_count": 0,
      "outputs": []
    },
    {
      "metadata": {
        "id": "HfaNnzd8c_tH",
        "colab_type": "code",
        "outputId": "b4f885ab-ed63-46fb-f2b8-4922a7aa19d4",
        "colab": {
          "base_uri": "https://localhost:8080/",
          "height": 34
        }
      },
      "cell_type": "code",
      "source": [
        "A.symmetric_difference(B)"
      ],
      "execution_count": 0,
      "outputs": [
        {
          "output_type": "execute_result",
          "data": {
            "text/plain": [
              "{1, 2, 3, 6, 7, 8}"
            ]
          },
          "metadata": {
            "tags": []
          },
          "execution_count": 121
        }
      ]
    },
    {
      "metadata": {
        "id": "ISJPCYiIdA4i",
        "colab_type": "code",
        "outputId": "c92fbe39-2ec7-438f-e908-27c4d266d2a6",
        "colab": {
          "base_uri": "https://localhost:8080/",
          "height": 34
        }
      },
      "cell_type": "code",
      "source": [
        "B.symmetric_difference(A)"
      ],
      "execution_count": 0,
      "outputs": [
        {
          "output_type": "execute_result",
          "data": {
            "text/plain": [
              "{1, 2, 3, 6, 7, 8}"
            ]
          },
          "metadata": {
            "tags": []
          },
          "execution_count": 122
        }
      ]
    },
    {
      "metadata": {
        "id": "xZFf9triddkX",
        "colab_type": "text"
      },
      "cell_type": "markdown",
      "source": [
        "## Many other set methods:\n",
        "\n",
        "`isdisjoint()`: check if 2 sets have a null intersection\n",
        "\n",
        "`issubset()`: check if another set contains this set\n",
        "\n",
        "`issuperset()`: check if this contains another set\n",
        "\n",
        "Athough there are methods like `add()`, `clear()`, `copy()`, but they are not recommended for use in common scientific computations"
      ]
    },
    {
      "metadata": {
        "id": "getfAgreelX9",
        "colab_type": "text"
      },
      "cell_type": "markdown",
      "source": [
        "# Dictionary: a special set that consists of both \"keys\" and \"values\""
      ]
    },
    {
      "metadata": {
        "id": "NDlwF8DtdCDh",
        "colab_type": "code",
        "outputId": "ef88488c-783a-41b2-a520-6c6b661fd503",
        "colab": {
          "base_uri": "https://localhost:8080/",
          "height": 34
        }
      },
      "cell_type": "code",
      "source": [
        "my_dictionary = {}\n",
        "print(type(my_dictionary))"
      ],
      "execution_count": 0,
      "outputs": [
        {
          "output_type": "stream",
          "text": [
            "<class 'dict'>\n"
          ],
          "name": "stdout"
        }
      ]
    },
    {
      "metadata": {
        "id": "m_h2AIsze1H-",
        "colab_type": "code",
        "outputId": "31a197c6-0583-486f-fcc2-694cc4063305",
        "colab": {
          "base_uri": "https://localhost:8080/",
          "height": 34
        }
      },
      "cell_type": "code",
      "source": [
        "my_dictionary = {1}\n",
        "print(type(my_dictionary))"
      ],
      "execution_count": 0,
      "outputs": [
        {
          "output_type": "stream",
          "text": [
            "<class 'set'>\n"
          ],
          "name": "stdout"
        }
      ]
    },
    {
      "metadata": {
        "id": "_RwTaX9Qe54s",
        "colab_type": "code",
        "outputId": "50997738-77f0-4dff-c0cb-0258d3bed57c",
        "colab": {
          "base_uri": "https://localhost:8080/",
          "height": 34
        }
      },
      "cell_type": "code",
      "source": [
        "my_dictionary = {'name': 'John', 1: [2, 4, 3]}\n",
        "print(my_dictionary)"
      ],
      "execution_count": 0,
      "outputs": [
        {
          "output_type": "stream",
          "text": [
            "{'name': 'John', 1: [2, 4, 3]}\n"
          ],
          "name": "stdout"
        }
      ]
    },
    {
      "metadata": {
        "id": "kydKHGwKe-wL",
        "colab_type": "code",
        "outputId": "bdd2499f-550d-4710-eec3-8c8a887635b9",
        "colab": {
          "base_uri": "https://localhost:8080/",
          "height": 34
        }
      },
      "cell_type": "code",
      "source": [
        "my_dictionary = dict({1:'apple', 2:'ball'})\n",
        "print(my_dictionary)"
      ],
      "execution_count": 0,
      "outputs": [
        {
          "output_type": "stream",
          "text": [
            "{1: 'apple', 2: 'ball'}\n"
          ],
          "name": "stdout"
        }
      ]
    },
    {
      "metadata": {
        "id": "3Ew8vhXLfFUf",
        "colab_type": "code",
        "outputId": "359ec883-e1a0-41b9-98be-9daa273acde7",
        "colab": {
          "base_uri": "https://localhost:8080/",
          "height": 34
        }
      },
      "cell_type": "code",
      "source": [
        "my_dictionary = dict([(1,'apple'), (2,'ball')])\n",
        "print(my_dictionary)"
      ],
      "execution_count": 0,
      "outputs": [
        {
          "output_type": "stream",
          "text": [
            "{1: 'apple', 2: 'ball'}\n"
          ],
          "name": "stdout"
        }
      ]
    },
    {
      "metadata": {
        "id": "7z2Wzs5PfJsx",
        "colab_type": "code",
        "outputId": "68e3bb1e-e538-4a86-a054-c22d91975907",
        "colab": {
          "base_uri": "https://localhost:8080/",
          "height": 34
        }
      },
      "cell_type": "code",
      "source": [
        "# I usually use this one:\n",
        "my_dictionary = dict(\n",
        "                     banana = 'apply',\n",
        "                     plane = 'ball')\n",
        "print(my_dictionary)"
      ],
      "execution_count": 0,
      "outputs": [
        {
          "output_type": "stream",
          "text": [
            "{'banana': 'apply', 'plane': 'ball'}\n"
          ],
          "name": "stdout"
        }
      ]
    },
    {
      "metadata": {
        "id": "ebnskTCDfS9I",
        "colab_type": "code",
        "outputId": "662bc5ff-1aeb-4768-b766-00a7906713ca",
        "colab": {
          "base_uri": "https://localhost:8080/",
          "height": 131
        }
      },
      "cell_type": "code",
      "source": [
        "# but caution:\n",
        "\n",
        "my_dictionary = dict(1='apple',2='ball')"
      ],
      "execution_count": 0,
      "outputs": [
        {
          "output_type": "error",
          "ename": "SyntaxError",
          "evalue": "ignored",
          "traceback": [
            "\u001b[0;36m  File \u001b[0;32m\"<ipython-input-25-16846217e054>\"\u001b[0;36m, line \u001b[0;32m2\u001b[0m\n\u001b[0;31m    eval(my_dictionary = dict(1='apple',2='ball'))\u001b[0m\n\u001b[0m                             ^\u001b[0m\n\u001b[0;31mSyntaxError\u001b[0m\u001b[0;31m:\u001b[0m keyword can't be an expression\n"
          ]
        }
      ]
    },
    {
      "metadata": {
        "id": "ms2ZrAKOfrgJ",
        "colab_type": "text"
      },
      "cell_type": "markdown",
      "source": [
        "### Manipulate dictionary"
      ]
    },
    {
      "metadata": {
        "id": "NATrmVMTfkB8",
        "colab_type": "code",
        "outputId": "bb5dcf61-8fb7-4c67-b365-21d4a58fc911",
        "colab": {
          "base_uri": "https://localhost:8080/",
          "height": 52
        }
      },
      "cell_type": "code",
      "source": [
        "my_dictionary = {'name':'Jack', 'age': 26}\n",
        "\n",
        "# update value\n",
        "my_dictionary['age'] = 27\n",
        "\n",
        "#Output: {'age': 27, 'name': 'Jack'}\n",
        "print(my_dictionary)\n",
        "\n",
        "# add item\n",
        "my_dictionary['address'] = 'Downtown'  \n",
        "\n",
        "# Output: {'address': 'Downtown', 'age': 27, 'name': 'Jack'}\n",
        "print(my_dictionary)"
      ],
      "execution_count": 0,
      "outputs": [
        {
          "output_type": "stream",
          "text": [
            "{'name': 'Jack', 'age': 27}\n",
            "{'name': 'Jack', 'age': 27, 'address': 'Downtown'}\n"
          ],
          "name": "stdout"
        }
      ]
    },
    {
      "metadata": {
        "id": "F-8bj1xDf1AE",
        "colab_type": "text"
      },
      "cell_type": "markdown",
      "source": [
        "## Iterate through a dictionary"
      ]
    },
    {
      "metadata": {
        "id": "VD0ND1qwfxRa",
        "colab_type": "code",
        "outputId": "ff7b6ed9-332e-4d21-83f8-4c52af908f27",
        "colab": {
          "base_uri": "https://localhost:8080/",
          "height": 34
        }
      },
      "cell_type": "code",
      "source": [
        "a_dictionary = {item:item+1 for item in range(20)}\n",
        "print(a_dictionary)"
      ],
      "execution_count": 0,
      "outputs": [
        {
          "output_type": "stream",
          "text": [
            "{0: 1, 1: 2, 2: 3, 3: 4, 4: 5, 5: 6, 6: 7, 7: 8, 8: 9, 9: 10, 10: 11, 11: 12, 12: 13, 13: 14, 14: 15, 15: 16, 16: 17, 17: 18, 18: 19, 19: 20}\n"
          ],
          "name": "stdout"
        }
      ]
    },
    {
      "metadata": {
        "id": "NxRpLPhagWJ5",
        "colab_type": "code",
        "outputId": "99b80a2c-ee4f-4fa5-ff67-4519c5d6e027",
        "colab": {
          "base_uri": "https://localhost:8080/",
          "height": 34
        }
      },
      "cell_type": "code",
      "source": [
        "a_dictionary = {} # empty dictionary\n",
        "for item in range(20):\n",
        "    a_dictionary[item] = item + 1\n",
        "print(a_dictionary)"
      ],
      "execution_count": 0,
      "outputs": [
        {
          "output_type": "stream",
          "text": [
            "{0: 1, 1: 2, 2: 3, 3: 4, 4: 5, 5: 6, 6: 7, 7: 8, 8: 9, 9: 10, 10: 11, 11: 12, 12: 13, 13: 14, 14: 15, 15: 16, 16: 17, 17: 18, 18: 19, 19: 20}\n"
          ],
          "name": "stdout"
        }
      ]
    },
    {
      "metadata": {
        "id": "L46sHgH4f_JE",
        "colab_type": "code",
        "outputId": "cdaeabcb-21be-49a4-a5da-7472db4b8479",
        "colab": {
          "base_uri": "https://localhost:8080/",
          "height": 364
        }
      },
      "cell_type": "code",
      "source": [
        "for key,value in a_dictionary.items():\n",
        "    print(key,value)"
      ],
      "execution_count": 0,
      "outputs": [
        {
          "output_type": "stream",
          "text": [
            "0 1\n",
            "1 2\n",
            "2 3\n",
            "3 4\n",
            "4 5\n",
            "5 6\n",
            "6 7\n",
            "7 8\n",
            "8 9\n",
            "9 10\n",
            "10 11\n",
            "11 12\n",
            "12 13\n",
            "13 14\n",
            "14 15\n",
            "15 16\n",
            "16 17\n",
            "17 18\n",
            "18 19\n",
            "19 20\n"
          ],
          "name": "stdout"
        }
      ]
    },
    {
      "metadata": {
        "id": "93qTQzmqgELF",
        "colab_type": "code",
        "outputId": "33dd6089-663c-4c72-8eb9-9a8ca0328b50",
        "colab": {
          "base_uri": "https://localhost:8080/",
          "height": 52
        }
      },
      "cell_type": "code",
      "source": [
        "print(a_dictionary.keys())\n",
        "print(a_dictionary.values())"
      ],
      "execution_count": 0,
      "outputs": [
        {
          "output_type": "stream",
          "text": [
            "dict_keys([0, 1, 2, 3, 4, 5, 6, 7, 8, 9, 10, 11, 12, 13, 14, 15, 16, 17, 18, 19])\n",
            "dict_values([1, 2, 3, 4, 5, 6, 7, 8, 9, 10, 11, 12, 13, 14, 15, 16, 17, 18, 19, 20])\n"
          ],
          "name": "stdout"
        }
      ]
    },
    {
      "metadata": {
        "id": "X4-gMvaBgJK4",
        "colab_type": "code",
        "outputId": "6a61b9ae-8d5e-4a8e-fda6-222cbfbefa2f",
        "colab": {
          "base_uri": "https://localhost:8080/",
          "height": 52
        }
      },
      "cell_type": "code",
      "source": [
        "# convert the dictionary properties to lists\n",
        "print(list(a_dictionary.keys()))\n",
        "print(list(a_dictionary.values()))"
      ],
      "execution_count": 0,
      "outputs": [
        {
          "output_type": "stream",
          "text": [
            "[0, 1, 2, 3, 4, 5, 6, 7, 8, 9, 10, 11, 12, 13, 14, 15, 16, 17, 18, 19]\n",
            "[1, 2, 3, 4, 5, 6, 7, 8, 9, 10, 11, 12, 13, 14, 15, 16, 17, 18, 19, 20]\n"
          ],
          "name": "stdout"
        }
      ]
    },
    {
      "metadata": {
        "id": "6C9U7u6Xgm3s",
        "colab_type": "text"
      },
      "cell_type": "markdown",
      "source": [
        "Dictionary is very useful when we work with pandas, a Python library that works with tabular data"
      ]
    },
    {
      "metadata": {
        "id": "XZVDmrt-hvxw",
        "colab_type": "text"
      },
      "cell_type": "markdown",
      "source": [
        "## A preview of how useful it is:"
      ]
    },
    {
      "metadata": {
        "id": "QJqMegBLgQko",
        "colab_type": "code",
        "outputId": "968c83e1-2847-47c0-f825-b3390fa4ed94",
        "colab": {
          "base_uri": "https://localhost:8080/",
          "height": 156
        }
      },
      "cell_type": "code",
      "source": [
        "import pandas as pd\n",
        "results = {'variable1': [1,2,3,4,5,6],\n",
        "           'variable2': ['a','r','d','f','u','j'],\n",
        "           'variable3': [True,True,False,True,True,False]}\n",
        "results_table = pd.DataFrame(results)\n",
        "print(results)\n",
        "print(results_table)"
      ],
      "execution_count": 0,
      "outputs": [
        {
          "output_type": "stream",
          "text": [
            "{'variable1': [1, 2, 3, 4, 5, 6], 'variable2': ['a', 'r', 'd', 'f', 'u', 'j'], 'variable3': [True, True, False, True, True, False]}\n",
            "   variable1 variable2  variable3\n",
            "0          1         a       True\n",
            "1          2         r       True\n",
            "2          3         d      False\n",
            "3          4         f       True\n",
            "4          5         u       True\n",
            "5          6         j      False\n"
          ],
          "name": "stdout"
        }
      ]
    },
    {
      "metadata": {
        "id": "Vy4cgmJdud1q",
        "colab_type": "text"
      },
      "cell_type": "markdown",
      "source": [
        "# Simple mathematics calculations: caution - data type"
      ]
    },
    {
      "metadata": {
        "id": "xnCTDdjIiTrL",
        "colab_type": "code",
        "outputId": "3c7c5e41-5c70-4048-8753-a7931cd7af02",
        "colab": {
          "base_uri": "https://localhost:8080/",
          "height": 69
        }
      },
      "cell_type": "code",
      "source": [
        "a = 1\n",
        "b = 2\n",
        "print(type(a),type(b))\n",
        "print(b - a)\n",
        "print(a / b) # this will be zero in python2"
      ],
      "execution_count": 0,
      "outputs": [
        {
          "output_type": "stream",
          "text": [
            "<class 'int'> <class 'int'>\n",
            "1\n",
            "0.5\n"
          ],
          "name": "stdout"
        }
      ]
    },
    {
      "metadata": {
        "id": "UwikLDlouqIu",
        "colab_type": "code",
        "outputId": "d3bcd8fe-28c9-41bf-f55d-01d0bfe32e77",
        "colab": {
          "base_uri": "https://localhost:8080/",
          "height": 69
        }
      },
      "cell_type": "code",
      "source": [
        "a = 1.# notice the difference\n",
        "b = 2\n",
        "print(type(a),type(b))\n",
        "print(b - a)\n",
        "print(a / b) # this will be a float in python2"
      ],
      "execution_count": 0,
      "outputs": [
        {
          "output_type": "stream",
          "text": [
            "<class 'float'> <class 'int'>\n",
            "1.0\n",
            "0.5\n"
          ],
          "name": "stdout"
        }
      ]
    },
    {
      "metadata": {
        "id": "x9zTu5Z0u00R",
        "colab_type": "code",
        "colab": {}
      },
      "cell_type": "code",
      "source": [
        ""
      ],
      "execution_count": 0,
      "outputs": []
    }
  ]
}
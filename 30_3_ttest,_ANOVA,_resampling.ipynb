{
  "nbformat": 4,
  "nbformat_minor": 0,
  "metadata": {
    "colab": {
      "name": "30.3. ttest, ANOVA, resampling.ipynb",
      "provenance": [],
      "collapsed_sections": [
        "Lsv-Gs1YKcRs",
        "vZKcjVgTKTTF",
        "sMmjjkBMK3I3",
        "Zws7d7AsLrZ-",
        "OtwVosonO8M1",
        "TuMuKxvSOIlj",
        "h0bwtD6BO1CO",
        "Rsv1mpGDPfdI",
        "7847bhjzTNd2"
      ],
      "toc_visible": true,
      "include_colab_link": true
    },
    "kernelspec": {
      "name": "python3",
      "display_name": "Python 3"
    }
  },
  "cells": [
    {
      "cell_type": "markdown",
      "metadata": {
        "id": "view-in-github",
        "colab_type": "text"
      },
      "source": [
        "<a href=\"https://colab.research.google.com/github/nmningmei/LevelUpPythonTutorial/blob/master/30_3_ttest%2C_ANOVA%2C_resampling.ipynb\" target=\"_parent\"><img src=\"https://colab.research.google.com/assets/colab-badge.svg\" alt=\"Open In Colab\"/></a>"
      ]
    },
    {
      "cell_type": "markdown",
      "metadata": {
        "id": "dhfqOvbpi-vh",
        "colab_type": "text"
      },
      "source": [
        ""
      ]
    },
    {
      "cell_type": "code",
      "metadata": {
        "id": "ZW51Ed04ESeZ",
        "colab_type": "code",
        "colab": {}
      },
      "source": [
        "import numpy as np\n",
        "import pandas as pd\n",
        "from scipy import stats\n",
        "from matplotlib import pyplot as plt\n",
        "%matplotlib inline\n",
        "import seaborn as sns"
      ],
      "execution_count": 0,
      "outputs": []
    },
    {
      "cell_type": "markdown",
      "metadata": {
        "id": "mhmScwEgEZm4",
        "colab_type": "text"
      },
      "source": [
        "# T-tests"
      ]
    },
    {
      "cell_type": "markdown",
      "metadata": {
        "id": "enYZqnMrEcaA",
        "colab_type": "text"
      },
      "source": [
        "## one-sample t-test"
      ]
    },
    {
      "cell_type": "markdown",
      "metadata": {
        "id": "Dl0HxyCNEgux",
        "colab_type": "text"
      },
      "source": [
        "### generate the data from normal distribution"
      ]
    },
    {
      "cell_type": "code",
      "metadata": {
        "id": "4g1gvQLRE1gy",
        "colab_type": "code",
        "outputId": "87409c0f-054b-4c2c-fd6d-0fa1e6f232f5",
        "colab": {
          "base_uri": "https://localhost:8080/",
          "height": 283
        }
      },
      "source": [
        "mean = 100\n",
        "standard_deviation = 18\n",
        "n_samples = 78\n",
        "theoretic_standard_error = standard_deviation / np.sqrt(n_samples)\n",
        "print(f'mean = {mean:.4f},standard error = {theoretic_standard_error:.4f}')\n",
        "np.random.seed(12345)\n",
        "samples = np.random.normal(loc = mean, scale = standard_deviation, size = n_samples)\n",
        "fig,ax = plt.subplots(figsize = (8,4))\n",
        "_ = ax.hist(samples,bins = 5,alpha = 0.7,color = 'blue')\n",
        "_ = ax.axvline(samples.mean(),linestyle = '--',color = 'black',alpha = 1.,label = f'mean = {samples.mean():.4f}')\n",
        "_ = ax.axvspan(samples.mean() - samples.std()/np.sqrt(n_samples),\n",
        "               samples.mean() + samples.std() / np.sqrt(n_samples), \n",
        "               color = 'red', alpha = 0.7,label = f'standard error = {samples.std() / np.sqrt(n_samples):.4f}')\n",
        "_ = ax.legend()"
      ],
      "execution_count": 0,
      "outputs": [
        {
          "output_type": "stream",
          "text": [
            "mean = 100.0000,standard error = 2.0381\n"
          ],
          "name": "stdout"
        },
        {
          "output_type": "display_data",
          "data": {
            "image/png": "[encoded data removed]",
            "text/plain": [
              "<Figure size 576x288 with 1 Axes>"
            ]
          },
          "metadata": {
            "tags": []
          }
        }
      ]
    },
    {
      "cell_type": "code",
      "metadata": {
        "id": "CG-kHM94FZqZ",
        "colab_type": "code",
        "outputId": "0ce8efd8-4365-4670-ba06-20fab78805af",
        "colab": {
          "base_uri": "https://localhost:8080/",
          "height": 34
        }
      },
      "source": [
        "stats.ttest_1samp(samples,100,)"
      ],
      "execution_count": 0,
      "outputs": [
        {
          "output_type": "execute_result",
          "data": {
            "text/plain": [
              "Ttest_1sampResult(statistic=-0.5251460594920753, pvalue=0.6009905475805698)"
            ]
          },
          "metadata": {
            "tags": []
          },
          "execution_count": 175
        }
      ]
    },
    {
      "cell_type": "code",
      "metadata": {
        "id": "gOJxPrt7Gvik",
        "colab_type": "code",
        "outputId": "a1a9bb4f-a1aa-457f-c2ac-7ea3c982245b",
        "colab": {
          "base_uri": "https://localhost:8080/",
          "height": 282
        }
      },
      "source": [
        "mean = 106\n",
        "standard_deviation = 18\n",
        "n_samples = 78\n",
        "theoretic_standard_error = standard_deviation / np.sqrt(n_samples)\n",
        "print(f'mean = {mean:.4f},standard error = {theoretic_standard_error:.4f}')\n",
        "np.random.seed(12345)\n",
        "samples = np.random.normal(loc = mean, scale = standard_deviation, size = n_samples)\n",
        "fig,ax = plt.subplots(figsize = (8,4))\n",
        "_ = ax.hist(samples,bins = 5,alpha = 0.7,color = 'blue')\n",
        "_ = ax.axvline(samples.mean(),linestyle = '--',color = 'black',alpha = 1.,label = f'mean = {samples.mean():.4f}')\n",
        "_ = ax.axvspan(samples.mean() - samples.std()/np.sqrt(n_samples),\n",
        "               samples.mean() + samples.std() / np.sqrt(n_samples), \n",
        "               color = 'red', alpha = 0.7,label = f'standard error = {samples.std() / np.sqrt(n_samples):.4f}')\n",
        "_ = ax.legend()"
      ],
      "execution_count": 0,
      "outputs": [
        {
          "output_type": "stream",
          "text": [
            "mean = 106.0000,standard error = 2.0381\n"
          ],
          "name": "stdout"
        },
        {
          "output_type": "display_data",
          "data": {
            "image/png": "[encoded data removed]",
            "text/plain": [
              "<Figure size 576x288 with 1 Axes>"
            ]
          },
          "metadata": {
            "tags": []
          }
        }
      ]
    },
    {
      "cell_type": "code",
      "metadata": {
        "id": "Vk0i-hU3G08U",
        "colab_type": "code",
        "outputId": "c24bf2a2-b56d-4f8d-954d-f1c65b69b6b1",
        "colab": {
          "base_uri": "https://localhost:8080/",
          "height": 34
        }
      },
      "source": [
        "stats.ttest_1samp(samples,100,)"
      ],
      "execution_count": 0,
      "outputs": [
        {
          "output_type": "execute_result",
          "data": {
            "text/plain": [
              "Ttest_1sampResult(statistic=2.2459567903320825, pvalue=0.027573833297004427)"
            ]
          },
          "metadata": {
            "tags": []
          },
          "execution_count": 177
        }
      ]
    },
    {
      "cell_type": "markdown",
      "metadata": {
        "id": "4niyqn7UHL8z",
        "colab_type": "text"
      },
      "source": [
        "### generate from non-normal distribution: exponential\n",
        "\n",
        "$$P(X \\leq x) = 1 - e^{\\lambda x}$$\n",
        "$$E[x] = 1/\\lambda$$"
      ]
    },
    {
      "cell_type": "code",
      "metadata": {
        "id": "WORi5UNaG6b0",
        "colab_type": "code",
        "outputId": "03cb8ae8-d5a9-48e7-c3ae-52b680256691",
        "colab": {
          "base_uri": "https://localhost:8080/",
          "height": 265
        }
      },
      "source": [
        "mean = 117\n",
        "n_samples = 78\n",
        "np.random.seed(12345)\n",
        "samples = np.random.exponential(scale = mean, size = n_samples)\n",
        "fig,ax = plt.subplots(figsize = (8,4))\n",
        "_ = ax.hist(samples,bins = 5,alpha = 0.7,color = 'blue')\n",
        "_ = ax.axvline(samples.mean(),linestyle = '--',color = 'black',alpha = 1.,label = f'mean = {samples.mean():.4f}')\n",
        "_ = ax.axvspan(samples.mean() - samples.std()/np.sqrt(n_samples),\n",
        "               samples.mean() + samples.std() / np.sqrt(n_samples), \n",
        "               color = 'red', alpha = 0.7,label = f'standard error = {samples.std() / np.sqrt(n_samples):.4f}')\n",
        "_ = ax.legend()"
      ],
      "execution_count": 0,
      "outputs": [
        {
          "output_type": "display_data",
          "data": {
            "image/png": "[encoded data removed]",
            "text/plain": [
              "<Figure size 576x288 with 1 Axes>"
            ]
          },
          "metadata": {
            "tags": []
          }
        }
      ]
    },
    {
      "cell_type": "code",
      "metadata": {
        "id": "jp74HrY9IPHM",
        "colab_type": "code",
        "outputId": "d5b2d0bf-d234-4b8f-d7d7-835ff98f2b07",
        "colab": {
          "base_uri": "https://localhost:8080/",
          "height": 34
        }
      },
      "source": [
        "stats.ttest_1samp(samples,100)"
      ],
      "execution_count": 0,
      "outputs": [
        {
          "output_type": "execute_result",
          "data": {
            "text/plain": [
              "Ttest_1sampResult(statistic=2.2858733668219404, pvalue=0.025012543966142314)"
            ]
          },
          "metadata": {
            "tags": []
          },
          "execution_count": 179
        }
      ]
    },
    {
      "cell_type": "markdown",
      "metadata": {
        "id": "kKyaQSAiIeWe",
        "colab_type": "text"
      },
      "source": [
        "### [generate from more distributions if you like](https://docs.scipy.org/doc/numpy-1.14.1/reference/routines.random.html)"
      ]
    },
    {
      "cell_type": "markdown",
      "metadata": {
        "id": "GJUh2E7WImKE",
        "colab_type": "text"
      },
      "source": [
        "## paired 2-sample t-test"
      ]
    },
    {
      "cell_type": "markdown",
      "metadata": {
        "id": "f6nhT2kdI22v",
        "colab_type": "text"
      },
      "source": [
        "### generate from normal distribution and kinda equal variance, they have to have the same sample size"
      ]
    },
    {
      "cell_type": "code",
      "metadata": {
        "id": "UfhxSBakIZjB",
        "colab_type": "code",
        "outputId": "96331a9b-96f3-4d9c-87ed-19c83d7495f3",
        "colab": {
          "base_uri": "https://localhost:8080/",
          "height": 265
        }
      },
      "source": [
        "sample_mean1 = 0.52\n",
        "sample_mean2 = 0.75\n",
        "sample_sd1 = 0.15\n",
        "sample_sd2 = 0.19\n",
        "sample_size1 = 30\n",
        "sample_size2 = 30\n",
        "\n",
        "np.random.seed(12345)\n",
        "samples1 = np.random.normal(sample_mean1,sample_sd1,sample_size1)\n",
        "samples2 = np.random.normal(sample_mean2,sample_sd2,sample_size2)\n",
        "\n",
        "fig,ax = plt.subplots(figsize = (8,4))\n",
        "_ = ax.hist(samples1,color = 'red',label='sample1',alpha = 0.4)\n",
        "_ = ax.hist(samples2,color = 'blue',label='sample2',alpha = 0.4)\n",
        "\n",
        "_ = ax.axvline(samples1.mean(),linestyle = '--',color = 'red',alpha = 1.,label = f'mean = {samples1.mean():.4f}')\n",
        "_ = ax.axvspan(samples1.mean() - samples1.std()/np.sqrt(sample_size1),\n",
        "               samples1.mean() + samples1.std() / np.sqrt(sample_size1), \n",
        "               color = 'red', alpha = 0.7,label = f'standard error = {samples1.std() / np.sqrt(sample_size1):.4f}')\n",
        "\n",
        "_ = ax.axvline(samples2.mean(),linestyle = '--',color = 'blue',alpha = 1.,label = f'mean = {samples2.mean():.4f}')\n",
        "_ = ax.axvspan(samples2.mean() - samples2.std()/np.sqrt(sample_size2),\n",
        "               samples2.mean() + samples2.std() / np.sqrt(sample_size2), \n",
        "               color = 'blue', alpha = 0.7,label = f'standard error = {samples2.std() / np.sqrt(sample_size2):.4f}')\n",
        "_ = ax.legend()"
      ],
      "execution_count": 0,
      "outputs": [
        {
          "output_type": "display_data",
          "data": {
            "image/png": "[encoded data removed]",
            "text/plain": [
              "<Figure size 576x288 with 1 Axes>"
            ]
          },
          "metadata": {
            "tags": []
          }
        }
      ]
    },
    {
      "cell_type": "code",
      "metadata": {
        "id": "8Ek7QG8aJm7g",
        "colab_type": "code",
        "outputId": "a223b73e-bbc6-46a3-a5ad-638df359965f",
        "colab": {
          "base_uri": "https://localhost:8080/",
          "height": 34
        }
      },
      "source": [
        "stats.ttest_rel(samples1,samples2,)"
      ],
      "execution_count": 0,
      "outputs": [
        {
          "output_type": "execute_result",
          "data": {
            "text/plain": [
              "Ttest_relResult(statistic=-2.1049874165929663, pvalue=0.044072222303606606)"
            ]
          },
          "metadata": {
            "tags": []
          },
          "execution_count": 181
        }
      ]
    },
    {
      "cell_type": "markdown",
      "metadata": {
        "id": "Lsv-Gs1YKcRs",
        "colab_type": "text"
      },
      "source": [
        "## independent 2-sample t-test"
      ]
    },
    {
      "cell_type": "markdown",
      "metadata": {
        "id": "vZKcjVgTKTTF",
        "colab_type": "text"
      },
      "source": [
        "### generate from normal distribution and kinda equal variance and unequal sample size"
      ]
    },
    {
      "cell_type": "code",
      "metadata": {
        "id": "T6mqLixBKKz2",
        "colab_type": "code",
        "outputId": "26716eb8-8a55-46d4-9177-ef858d2c6ab5",
        "colab": {
          "base_uri": "https://localhost:8080/",
          "height": 265
        }
      },
      "source": [
        "sample_mean1 = 0.52\n",
        "sample_mean2 = 0.75\n",
        "sample_sd1 = 0.15\n",
        "sample_sd2 = 0.19\n",
        "sample_size1 = 30\n",
        "sample_size2 = 60 # only change from above\n",
        "\n",
        "np.random.seed(12345)\n",
        "samples1 = np.random.normal(sample_mean1,sample_sd1,sample_size1)\n",
        "samples2 = np.random.normal(sample_mean2,sample_sd2,sample_size2)\n",
        "\n",
        "fig,ax = plt.subplots(figsize = (8,4))\n",
        "_ = ax.hist(samples1,color = 'red',label='sample1',alpha = 0.4)\n",
        "_ = ax.hist(samples2,color = 'blue',label='sample2',alpha = 0.4)\n",
        "\n",
        "_ = ax.axvline(samples1.mean(),linestyle = '--',color = 'red',alpha = 1.,label = f'mean = {samples1.mean():.4f}')\n",
        "_ = ax.axvspan(samples1.mean() - samples1.std()/np.sqrt(sample_size1),\n",
        "               samples1.mean() + samples1.std() / np.sqrt(sample_size1), \n",
        "               color = 'red', alpha = 0.7,label = f'standard error = {samples1.std() / np.sqrt(sample_size1):.4f}')\n",
        "\n",
        "_ = ax.axvline(samples2.mean(),linestyle = '--',color = 'blue',alpha = 1.,label = f'mean = {samples2.mean():.4f}')\n",
        "_ = ax.axvspan(samples2.mean() - samples2.std()/np.sqrt(sample_size2),\n",
        "               samples2.mean() + samples2.std() / np.sqrt(sample_size2), \n",
        "               color = 'blue', alpha = 0.7,label = f'standard error = {samples2.std() / np.sqrt(sample_size2):.4f}')\n",
        "_ = ax.legend()"
      ],
      "execution_count": 0,
      "outputs": [
        {
          "output_type": "display_data",
          "data": {
            "image/png": "[encoded data removed]",
            "text/plain": [
              "<Figure size 576x288 with 1 Axes>"
            ]
          },
          "metadata": {
            "tags": []
          }
        }
      ]
    },
    {
      "cell_type": "code",
      "metadata": {
        "id": "osdz1te9Ki1T",
        "colab_type": "code",
        "outputId": "b33d4dff-5d01-40c9-badf-f0f5351d0c63",
        "colab": {
          "base_uri": "https://localhost:8080/",
          "height": 34
        }
      },
      "source": [
        "stats.ttest_ind(samples1,samples2,equal_var = True)"
      ],
      "execution_count": 0,
      "outputs": [
        {
          "output_type": "execute_result",
          "data": {
            "text/plain": [
              "Ttest_indResult(statistic=-3.5176311972648056, pvalue=0.0006912109659667991)"
            ]
          },
          "metadata": {
            "tags": []
          },
          "execution_count": 183
        }
      ]
    },
    {
      "cell_type": "markdown",
      "metadata": {
        "id": "sMmjjkBMK3I3",
        "colab_type": "text"
      },
      "source": [
        "### generate from normal distribution and unequal vairance and unequal sample size"
      ]
    },
    {
      "cell_type": "code",
      "metadata": {
        "id": "oMh0n0o4Ko6o",
        "colab_type": "code",
        "outputId": "5ae464fd-e0d6-4b74-84e6-6486ad21459c",
        "colab": {
          "base_uri": "https://localhost:8080/",
          "height": 265
        }
      },
      "source": [
        "sample_mean1 = 0.52\n",
        "sample_mean2 = 1.03\n",
        "sample_sd1 = 0.15 * 5\n",
        "sample_sd2 = 0.15 #\n",
        "sample_size1 = 30\n",
        "sample_size2 = 60 #\n",
        "\n",
        "np.random.seed(12345)\n",
        "samples1 = np.random.normal(sample_mean1,sample_sd1,sample_size1)\n",
        "samples2 = np.random.normal(sample_mean2,sample_sd2,sample_size2)\n",
        "\n",
        "fig,ax = plt.subplots(figsize = (8,4))\n",
        "_ = ax.hist(samples1,color = 'red',label='sample1',alpha = 0.4)\n",
        "_ = ax.hist(samples2,color = 'blue',label='sample2',alpha = 0.4)\n",
        "\n",
        "_ = ax.axvline(samples1.mean(),linestyle = '--',color = 'red',alpha = 1.,label = f'mean = {samples1.mean():.4f}')\n",
        "_ = ax.axvspan(samples1.mean() - samples1.std()/np.sqrt(sample_size1),\n",
        "               samples1.mean() + samples1.std() / np.sqrt(sample_size1), \n",
        "               color = 'red', alpha = 0.7,label = f'standard error = {samples1.std() / np.sqrt(sample_size1):.4f}')\n",
        "\n",
        "_ = ax.axvline(samples2.mean(),linestyle = '--',color = 'blue',alpha = 1.,label = f'mean = {samples2.mean():.4f}')\n",
        "_ = ax.axvspan(samples2.mean() - samples2.std()/np.sqrt(sample_size2),\n",
        "               samples2.mean() + samples2.std() / np.sqrt(sample_size2), \n",
        "               color = 'blue', alpha = 0.7,label = f'standard error = {samples2.std() / np.sqrt(sample_size2):.4f}')\n",
        "_ = ax.legend()"
      ],
      "execution_count": 0,
      "outputs": [
        {
          "output_type": "display_data",
          "data": {
            "image/png": "[encoded data removed]",
            "text/plain": [
              "<Figure size 576x288 with 1 Axes>"
            ]
          },
          "metadata": {
            "tags": []
          }
        }
      ]
    },
    {
      "cell_type": "code",
      "metadata": {
        "id": "gXGRm6rjLEEL",
        "colab_type": "code",
        "outputId": "40cab042-e84a-40b3-b56c-2f80bf48c346",
        "colab": {
          "base_uri": "https://localhost:8080/",
          "height": 34
        }
      },
      "source": [
        "stats.ttest_ind(samples1,samples2,equal_var = False)"
      ],
      "execution_count": 0,
      "outputs": [
        {
          "output_type": "execute_result",
          "data": {
            "text/plain": [
              "Ttest_indResult(statistic=-1.5454099912243922, pvalue=0.1327234442423455)"
            ]
          },
          "metadata": {
            "tags": []
          },
          "execution_count": 185
        }
      ]
    },
    {
      "cell_type": "markdown",
      "metadata": {
        "id": "D935FI3-LoUS",
        "colab_type": "text"
      },
      "source": [
        "# ANOVA"
      ]
    },
    {
      "cell_type": "markdown",
      "metadata": {
        "id": "Zws7d7AsLrZ-",
        "colab_type": "text"
      },
      "source": [
        "## one-way ANOVA"
      ]
    },
    {
      "cell_type": "code",
      "metadata": {
        "id": "OszWVZz4LIz1",
        "colab_type": "code",
        "colab": {}
      },
      "source": [
        "from sklearn.datasets import load_iris"
      ],
      "execution_count": 0,
      "outputs": []
    },
    {
      "cell_type": "code",
      "metadata": {
        "id": "drr8KlmgL_0s",
        "colab_type": "code",
        "outputId": "eecc0b65-3621-4f01-fb8b-03a1a0b622ca",
        "colab": {
          "base_uri": "https://localhost:8080/",
          "height": 246
        }
      },
      "source": [
        "data,groups = load_iris(return_X_y=True)\n",
        "print(data[:,0],groups)"
      ],
      "execution_count": 0,
      "outputs": [
        {
          "output_type": "stream",
          "text": [
            "[5.1 4.9 4.7 4.6 5.  5.4 4.6 5.  4.4 4.9 5.4 4.8 4.8 4.3 5.8 5.7 5.4 5.1\n",
            " 5.7 5.1 5.4 5.1 4.6 5.1 4.8 5.  5.  5.2 5.2 4.7 4.8 5.4 5.2 5.5 4.9 5.\n",
            " 5.5 4.9 4.4 5.1 5.  4.5 4.4 5.  5.1 4.8 5.1 4.6 5.3 5.  7.  6.4 6.9 5.5\n",
            " 6.5 5.7 6.3 4.9 6.6 5.2 5.  5.9 6.  6.1 5.6 6.7 5.6 5.8 6.2 5.6 5.9 6.1\n",
            " 6.3 6.1 6.4 6.6 6.8 6.7 6.  5.7 5.5 5.5 5.8 6.  5.4 6.  6.7 6.3 5.6 5.5\n",
            " 5.5 6.1 5.8 5.  5.6 5.7 5.7 6.2 5.1 5.7 6.3 5.8 7.1 6.3 6.5 7.6 4.9 7.3\n",
            " 6.7 7.2 6.5 6.4 6.8 5.7 5.8 6.4 6.5 7.7 7.7 6.  6.9 5.6 7.7 6.3 6.7 7.2\n",
            " 6.2 6.1 6.4 7.2 7.4 7.9 6.4 6.3 6.1 7.7 6.3 6.4 6.  6.9 6.7 6.9 5.8 6.8\n",
            " 6.7 6.7 6.3 6.5 6.2 5.9] [0 0 0 0 0 0 0 0 0 0 0 0 0 0 0 0 0 0 0 0 0 0 0 0 0 0 0 0 0 0 0 0 0 0 0 0 0\n",
            " 0 0 0 0 0 0 0 0 0 0 0 0 0 1 1 1 1 1 1 1 1 1 1 1 1 1 1 1 1 1 1 1 1 1 1 1 1\n",
            " 1 1 1 1 1 1 1 1 1 1 1 1 1 1 1 1 1 1 1 1 1 1 1 1 1 1 2 2 2 2 2 2 2 2 2 2 2\n",
            " 2 2 2 2 2 2 2 2 2 2 2 2 2 2 2 2 2 2 2 2 2 2 2 2 2 2 2 2 2 2 2 2 2 2 2 2 2\n",
            " 2 2]\n"
          ],
          "name": "stdout"
        }
      ]
    },
    {
      "cell_type": "code",
      "metadata": {
        "id": "Ck5x4utXMLhm",
        "colab_type": "code",
        "outputId": "9daf3beb-8a3d-46d8-c1b4-b5ae937b706f",
        "colab": {
          "base_uri": "https://localhost:8080/",
          "height": 417
        }
      },
      "source": [
        "df = pd.DataFrame(np.vstack([data[:,0],groups]).T,columns = ['measures','groups'])\n",
        "df"
      ],
      "execution_count": 0,
      "outputs": [
        {
          "output_type": "execute_result",
          "data": {
            "text/html": [
              "<div>\n",
              "<style scoped>\n",
              "    .dataframe tbody tr th:only-of-type {\n",
              "        vertical-align: middle;\n",
              "    }\n",
              "\n",
              "    .dataframe tbody tr th {\n",
              "        vertical-align: top;\n",
              "    }\n",
              "\n",
              "    .dataframe thead th {\n",
              "        text-align: right;\n",
              "    }\n",
              "</style>\n",
              "<table border=\"1\" class=\"dataframe\">\n",
              "  <thead>\n",
              "    <tr style=\"text-align: right;\">\n",
              "      <th></th>\n",
              "      <th>measures</th>\n",
              "      <th>groups</th>\n",
              "    </tr>\n",
              "  </thead>\n",
              "  <tbody>\n",
              "    <tr>\n",
              "      <th>0</th>\n",
              "      <td>5.1</td>\n",
              "      <td>0.0</td>\n",
              "    </tr>\n",
              "    <tr>\n",
              "      <th>1</th>\n",
              "      <td>4.9</td>\n",
              "      <td>0.0</td>\n",
              "    </tr>\n",
              "    <tr>\n",
              "      <th>2</th>\n",
              "      <td>4.7</td>\n",
              "      <td>0.0</td>\n",
              "    </tr>\n",
              "    <tr>\n",
              "      <th>3</th>\n",
              "      <td>4.6</td>\n",
              "      <td>0.0</td>\n",
              "    </tr>\n",
              "    <tr>\n",
              "      <th>4</th>\n",
              "      <td>5.0</td>\n",
              "      <td>0.0</td>\n",
              "    </tr>\n",
              "    <tr>\n",
              "      <th>...</th>\n",
              "      <td>...</td>\n",
              "      <td>...</td>\n",
              "    </tr>\n",
              "    <tr>\n",
              "      <th>145</th>\n",
              "      <td>6.7</td>\n",
              "      <td>2.0</td>\n",
              "    </tr>\n",
              "    <tr>\n",
              "      <th>146</th>\n",
              "      <td>6.3</td>\n",
              "      <td>2.0</td>\n",
              "    </tr>\n",
              "    <tr>\n",
              "      <th>147</th>\n",
              "      <td>6.5</td>\n",
              "      <td>2.0</td>\n",
              "    </tr>\n",
              "    <tr>\n",
              "      <th>148</th>\n",
              "      <td>6.2</td>\n",
              "      <td>2.0</td>\n",
              "    </tr>\n",
              "    <tr>\n",
              "      <th>149</th>\n",
              "      <td>5.9</td>\n",
              "      <td>2.0</td>\n",
              "    </tr>\n",
              "  </tbody>\n",
              "</table>\n",
              "<p>150 rows × 2 columns</p>\n",
              "</div>"
            ],
            "text/plain": [
              "     measures  groups\n",
              "0         5.1     0.0\n",
              "1         4.9     0.0\n",
              "2         4.7     0.0\n",
              "3         4.6     0.0\n",
              "4         5.0     0.0\n",
              "..        ...     ...\n",
              "145       6.7     2.0\n",
              "146       6.3     2.0\n",
              "147       6.5     2.0\n",
              "148       6.2     2.0\n",
              "149       5.9     2.0\n",
              "\n",
              "[150 rows x 2 columns]"
            ]
          },
          "metadata": {
            "tags": []
          },
          "execution_count": 5
        }
      ]
    },
    {
      "cell_type": "code",
      "metadata": {
        "id": "Ji-Fqu2uMYq6",
        "colab_type": "code",
        "outputId": "f58c23ff-ffe1-4222-92a0-e3cd69e91d82",
        "colab": {
          "base_uri": "https://localhost:8080/",
          "height": 297
        }
      },
      "source": [
        "df['x'] = 0\n",
        "sns.barplot(x = 'x',\n",
        "            y = 'measures',\n",
        "            hue = 'groups',\n",
        "            data = df,\n",
        "            )"
      ],
      "execution_count": 0,
      "outputs": [
        {
          "output_type": "execute_result",
          "data": {
            "text/plain": [
              "<matplotlib.axes._subplots.AxesSubplot at 0x7f2dc2440c88>"
            ]
          },
          "metadata": {
            "tags": []
          },
          "execution_count": 189
        },
        {
          "output_type": "display_data",
          "data": {
            "image/png": "[encoded data removed]",
            "text/plain": [
              "<Figure size 432x288 with 1 Axes>"
            ]
          },
          "metadata": {
            "tags": []
          }
        }
      ]
    },
    {
      "cell_type": "code",
      "metadata": {
        "id": "lrFllZHsnQ9m",
        "colab_type": "code",
        "outputId": "7e824519-f4ec-4f36-a257-c736bcc91be0",
        "colab": {
          "base_uri": "https://localhost:8080/",
          "height": 87
        }
      },
      "source": [
        "df[df['groups'] == 0]['measures'].values"
      ],
      "execution_count": 0,
      "outputs": [
        {
          "output_type": "execute_result",
          "data": {
            "text/plain": [
              "array([5.1, 4.9, 4.7, 4.6, 5. , 5.4, 4.6, 5. , 4.4, 4.9, 5.4, 4.8, 4.8,\n",
              "       4.3, 5.8, 5.7, 5.4, 5.1, 5.7, 5.1, 5.4, 5.1, 4.6, 5.1, 4.8, 5. ,\n",
              "       5. , 5.2, 5.2, 4.7, 4.8, 5.4, 5.2, 5.5, 4.9, 5. , 5.5, 4.9, 4.4,\n",
              "       5.1, 5. , 4.5, 4.4, 5. , 5.1, 4.8, 5.1, 4.6, 5.3, 5. ])"
            ]
          },
          "metadata": {
            "tags": []
          },
          "execution_count": 11
        }
      ]
    },
    {
      "cell_type": "code",
      "metadata": {
        "id": "0LMi6DnunQ7g",
        "colab_type": "code",
        "colab": {}
      },
      "source": [
        ""
      ],
      "execution_count": 0,
      "outputs": []
    },
    {
      "cell_type": "code",
      "metadata": {
        "id": "LslZtkNCMw0_",
        "colab_type": "code",
        "outputId": "ce31651d-fc9d-4963-990d-a21ab6580fe6",
        "colab": {
          "base_uri": "https://localhost:8080/",
          "height": 34
        }
      },
      "source": [
        "stats.f_oneway(df[df['groups'] == 0]['measures'].values,\n",
        "               df[df['groups'] == 1]['measures'].values,\n",
        "               df[df['groups'] == 2]['measures'].values,)"
      ],
      "execution_count": 0,
      "outputs": [
        {
          "output_type": "execute_result",
          "data": {
            "text/plain": [
              "F_onewayResult(statistic=119.26450218450468, pvalue=1.6696691907693826e-31)"
            ]
          },
          "metadata": {
            "tags": []
          },
          "execution_count": 190
        }
      ]
    },
    {
      "cell_type": "code",
      "metadata": {
        "id": "9k1kKJRmNA15",
        "colab_type": "code",
        "outputId": "b65d06de-0fb3-43f9-a7dc-06602eef2a22",
        "colab": {
          "base_uri": "https://localhost:8080/",
          "height": 70
        }
      },
      "source": [
        "import statsmodels.api as sm\n",
        "from statsmodels.formula.api import ols\n",
        "\n",
        "mod = ols('measures ~ C(groups)',\n",
        "                data=df).fit()\n",
        "                \n",
        "aov_table = sm.stats.anova_lm(mod, typ=2)\n",
        "esq_sm = aov_table['sum_sq'][0]/(aov_table['sum_sq'][0]+aov_table['sum_sq'][1])\n",
        "aov_table['EtaSq'] = [esq_sm, 'NaN']\n",
        "print(aov_table)\n",
        "\n"
      ],
      "execution_count": 0,
      "outputs": [
        {
          "output_type": "stream",
          "text": [
            "              sum_sq     df           F        PR(>F)     EtaSq\n",
            "C(groups)  63.212133    2.0  119.264502  1.669669e-31  0.618706\n",
            "Residual   38.956200  147.0         NaN           NaN       NaN\n"
          ],
          "name": "stdout"
        }
      ]
    },
    {
      "cell_type": "markdown",
      "metadata": {
        "id": "OtwVosonO8M1",
        "colab_type": "text"
      },
      "source": [
        "### multiple comparison"
      ]
    },
    {
      "cell_type": "code",
      "metadata": {
        "id": "qJycbNhJPbgn",
        "colab_type": "code",
        "outputId": "7eb44271-9faa-471f-8da4-4db11267c777",
        "colab": {
          "base_uri": "https://localhost:8080/",
          "height": 121
        }
      },
      "source": [
        "pair_t = mod.t_test_pairwise('C(groups)')\n",
        "print(pair_t.result_frame)"
      ],
      "execution_count": 0,
      "outputs": [
        {
          "output_type": "stream",
          "text": [
            "          coef   std err          t  ...  Conf. Int. Upp.     pvalue-hs  reject-hs\n",
            "1.0-0.0  0.930  0.102958   9.032819  ...         1.133469  1.776357e-15       True\n",
            "2.0-0.0  1.582  0.102958  15.365506  ...         1.785469  0.000000e+00       True\n",
            "2.0-1.0  0.652  0.102958   6.332686  ...         0.855469  2.765638e-09       True\n",
            "\n",
            "[3 rows x 8 columns]\n"
          ],
          "name": "stdout"
        }
      ]
    },
    {
      "cell_type": "markdown",
      "metadata": {
        "id": "TuMuKxvSOIlj",
        "colab_type": "text"
      },
      "source": [
        "## 2-way ANOVA"
      ]
    },
    {
      "cell_type": "code",
      "metadata": {
        "id": "IknIpEEhNj1M",
        "colab_type": "code",
        "colab": {}
      },
      "source": [
        "df = pd.read_csv(\"https://raw.githubusercontent.com/Opensourcefordatascience/Data-sets/master/crop_yield.csv\")"
      ],
      "execution_count": 0,
      "outputs": []
    },
    {
      "cell_type": "code",
      "metadata": {
        "id": "g1Yg2xIbORLK",
        "colab_type": "code",
        "outputId": "8c378848-1d23-4f99-e754-b462c11ddf82",
        "colab": {
          "base_uri": "https://localhost:8080/",
          "height": 206
        }
      },
      "source": [
        "df.head()"
      ],
      "execution_count": 0,
      "outputs": [
        {
          "output_type": "execute_result",
          "data": {
            "text/html": [
              "<div>\n",
              "<style scoped>\n",
              "    .dataframe tbody tr th:only-of-type {\n",
              "        vertical-align: middle;\n",
              "    }\n",
              "\n",
              "    .dataframe tbody tr th {\n",
              "        vertical-align: top;\n",
              "    }\n",
              "\n",
              "    .dataframe thead th {\n",
              "        text-align: right;\n",
              "    }\n",
              "</style>\n",
              "<table border=\"1\" class=\"dataframe\">\n",
              "  <thead>\n",
              "    <tr style=\"text-align: right;\">\n",
              "      <th></th>\n",
              "      <th>Fert</th>\n",
              "      <th>Water</th>\n",
              "      <th>Yield</th>\n",
              "    </tr>\n",
              "  </thead>\n",
              "  <tbody>\n",
              "    <tr>\n",
              "      <th>0</th>\n",
              "      <td>A</td>\n",
              "      <td>High</td>\n",
              "      <td>27.4</td>\n",
              "    </tr>\n",
              "    <tr>\n",
              "      <th>1</th>\n",
              "      <td>A</td>\n",
              "      <td>High</td>\n",
              "      <td>33.6</td>\n",
              "    </tr>\n",
              "    <tr>\n",
              "      <th>2</th>\n",
              "      <td>A</td>\n",
              "      <td>High</td>\n",
              "      <td>29.8</td>\n",
              "    </tr>\n",
              "    <tr>\n",
              "      <th>3</th>\n",
              "      <td>A</td>\n",
              "      <td>High</td>\n",
              "      <td>35.2</td>\n",
              "    </tr>\n",
              "    <tr>\n",
              "      <th>4</th>\n",
              "      <td>A</td>\n",
              "      <td>High</td>\n",
              "      <td>33.0</td>\n",
              "    </tr>\n",
              "  </tbody>\n",
              "</table>\n",
              "</div>"
            ],
            "text/plain": [
              "  Fert Water  Yield\n",
              "0    A  High   27.4\n",
              "1    A  High   33.6\n",
              "2    A  High   29.8\n",
              "3    A  High   35.2\n",
              "4    A  High   33.0"
            ]
          },
          "metadata": {
            "tags": []
          },
          "execution_count": 194
        }
      ]
    },
    {
      "cell_type": "code",
      "metadata": {
        "id": "BoRRQWxMOStr",
        "colab_type": "code",
        "outputId": "191aa6dd-1e38-4acd-e792-6e0e5058c634",
        "colab": {
          "base_uri": "https://localhost:8080/",
          "height": 521
        }
      },
      "source": [
        "import statsmodels.api as sm\n",
        "from statsmodels.formula.api import ols\n",
        "import statsmodels.stats.multicomp\n",
        "\"Yield ~ C(Fert) + C(Water) + C(Fert):C(Water)\"\n",
        "model = ols('Yield ~ C(Fert)*C(Water)', df).fit() # with interaction\n",
        "print(f\"Overall model F({model.df_model: .0f},{model.df_resid: .0f}) = {model.fvalue: .3f}, p = {model.f_pvalue: .4f}\")\n",
        "print()\n",
        "print(model.summary())"
      ],
      "execution_count": 0,
      "outputs": [
        {
          "output_type": "stream",
          "text": [
            "Overall model F( 3, 16) =  4.112, p =  0.0243\n",
            "\n",
            "                            OLS Regression Results                            \n",
            "==============================================================================\n",
            "Dep. Variable:                  Yield   R-squared:                       0.435\n",
            "Model:                            OLS   Adj. R-squared:                  0.330\n",
            "Method:                 Least Squares   F-statistic:                     4.112\n",
            "Date:                Sun, 24 Nov 2019   Prob (F-statistic):             0.0243\n",
            "Time:                        16:52:02   Log-Likelihood:                -50.996\n",
            "No. Observations:                  20   AIC:                             110.0\n",
            "Df Residuals:                      16   BIC:                             114.0\n",
            "Df Model:                           3                                         \n",
            "Covariance Type:            nonrobust                                         \n",
            "================================================================================================\n",
            "                                   coef    std err          t      P>|t|      [0.025      0.975]\n",
            "------------------------------------------------------------------------------------------------\n",
            "Intercept                       31.8000      1.549     20.527      0.000      28.516      35.084\n",
            "C(Fert)[T.B]                    -1.9600      2.191     -0.895      0.384      -6.604       2.684\n",
            "C(Water)[T.Low]                 -1.8000      2.191     -0.822      0.423      -6.444       2.844\n",
            "C(Fert)[T.B]:C(Water)[T.Low]    -3.5200      3.098     -1.136      0.273     -10.088       3.048\n",
            "==============================================================================\n",
            "Omnibus:                        3.427   Durbin-Watson:                   2.963\n",
            "Prob(Omnibus):                  0.180   Jarque-Bera (JB):                1.319\n",
            "Skew:                          -0.082   Prob(JB):                        0.517\n",
            "Kurtosis:                       1.752   Cond. No.                         6.85\n",
            "==============================================================================\n",
            "\n",
            "Warnings:\n",
            "[1] Standard Errors assume that the covariance matrix of the errors is correctly specified.\n"
          ],
          "name": "stdout"
        }
      ]
    },
    {
      "cell_type": "code",
      "metadata": {
        "id": "j8wIURL_OfCj",
        "colab_type": "code",
        "outputId": "0093009c-99fa-4c6f-eaa0-4e035c5f5023",
        "colab": {
          "base_uri": "https://localhost:8080/",
          "height": 104
        }
      },
      "source": [
        "res = sm.stats.anova_lm(model, typ= 2)\n",
        "print(res)"
      ],
      "execution_count": 0,
      "outputs": [
        {
          "output_type": "stream",
          "text": [
            "                   sum_sq    df         F    PR(>F)\n",
            "C(Fert)            69.192   1.0  5.766000  0.028847\n",
            "C(Water)           63.368   1.0  5.280667  0.035386\n",
            "C(Fert):C(Water)   15.488   1.0  1.290667  0.272656\n",
            "Residual          192.000  16.0       NaN       NaN\n"
          ],
          "name": "stdout"
        }
      ]
    },
    {
      "cell_type": "code",
      "metadata": {
        "id": "h_k77U73OlCm",
        "colab_type": "code",
        "outputId": "fe47ae20-239b-42de-aa4f-3ca28ddca8cc",
        "colab": {
          "base_uri": "https://localhost:8080/",
          "height": 573
        }
      },
      "source": [
        "model2 = ols('Yield ~ C(Fert)+ C(Water)', df).fit() # without interaction\n",
        "print(f\"Overall model F({model2.df_model: .0f},{model2.df_resid: .0f}) = {model2.fvalue: .3f}, p = {model2.f_pvalue: .4f}\")\n",
        "print()\n",
        "print(model2.summary())\n",
        "res2 = sm.stats.anova_lm(model2, typ= 2)\n",
        "print(res2)"
      ],
      "execution_count": 0,
      "outputs": [
        {
          "output_type": "stream",
          "text": [
            "Overall model F( 2, 17) =  5.430, p =  0.0150\n",
            "\n",
            "                            OLS Regression Results                            \n",
            "==============================================================================\n",
            "Dep. Variable:                  Yield   R-squared:                       0.390\n",
            "Model:                            OLS   Adj. R-squared:                  0.318\n",
            "Method:                 Least Squares   F-statistic:                     5.430\n",
            "Date:                Sun, 24 Nov 2019   Prob (F-statistic):             0.0150\n",
            "Time:                        16:52:02   Log-Likelihood:                -51.772\n",
            "No. Observations:                  20   AIC:                             109.5\n",
            "Df Residuals:                      17   BIC:                             112.5\n",
            "Df Model:                           2                                         \n",
            "Covariance Type:            nonrobust                                         \n",
            "===================================================================================\n",
            "                      coef    std err          t      P>|t|      [0.025      0.975]\n",
            "-----------------------------------------------------------------------------------\n",
            "Intercept          32.6800      1.353     24.153      0.000      29.825      35.535\n",
            "C(Fert)[T.B]       -3.7200      1.562     -2.381      0.029      -7.016      -0.424\n",
            "C(Water)[T.Low]    -3.5600      1.562     -2.279      0.036      -6.856      -0.264\n",
            "==============================================================================\n",
            "Omnibus:                        1.169   Durbin-Watson:                   2.736\n",
            "Prob(Omnibus):                  0.557   Jarque-Bera (JB):                0.820\n",
            "Skew:                          -0.081   Prob(JB):                        0.664\n",
            "Kurtosis:                       2.022   Cond. No.                         3.19\n",
            "==============================================================================\n",
            "\n",
            "Warnings:\n",
            "[1] Standard Errors assume that the covariance matrix of the errors is correctly specified.\n",
            "           sum_sq    df         F    PR(>F)\n",
            "C(Fert)    69.192   1.0  5.669070  0.029228\n",
            "C(Water)   63.368   1.0  5.191895  0.035887\n",
            "Residual  207.488  17.0       NaN       NaN\n"
          ],
          "name": "stdout"
        }
      ]
    },
    {
      "cell_type": "markdown",
      "metadata": {
        "id": "h0bwtD6BO1CO",
        "colab_type": "text"
      },
      "source": [
        "### multiple comparison"
      ]
    },
    {
      "cell_type": "code",
      "metadata": {
        "id": "7gtkvXe5Ov8i",
        "colab_type": "code",
        "outputId": "c958fa51-1111-4d80-bcb8-55540dfb08ba",
        "colab": {
          "base_uri": "https://localhost:8080/",
          "height": 121
        }
      },
      "source": [
        "mc = statsmodels.stats.multicomp.MultiComparison(df['Yield'], df['Fert'])\n",
        "mc_results = mc.tukeyhsd()\n",
        "print(mc_results)"
      ],
      "execution_count": 0,
      "outputs": [
        {
          "output_type": "stream",
          "text": [
            "Multiple Comparison of Means - Tukey HSD, FWER=0.05 \n",
            "====================================================\n",
            "group1 group2 meandiff p-adj   lower   upper  reject\n",
            "----------------------------------------------------\n",
            "     A      B    -3.72 0.0459 -7.3647 -0.0753   True\n",
            "----------------------------------------------------\n"
          ],
          "name": "stdout"
        }
      ]
    },
    {
      "cell_type": "code",
      "metadata": {
        "id": "Ycc1FOIZO3Qp",
        "colab_type": "code",
        "outputId": "280bfe90-d118-4011-fd22-76f23e756aeb",
        "colab": {
          "base_uri": "https://localhost:8080/",
          "height": 121
        }
      },
      "source": [
        "mc = statsmodels.stats.multicomp.MultiComparison(df['Yield'], df['Water'])\n",
        "mc_results = mc.tukeyhsd()\n",
        "print(mc_results)"
      ],
      "execution_count": 0,
      "outputs": [
        {
          "output_type": "stream",
          "text": [
            "Multiple Comparison of Means - Tukey HSD, FWER=0.05\n",
            "===================================================\n",
            "group1 group2 meandiff p-adj   lower  upper  reject\n",
            "---------------------------------------------------\n",
            "  High    Low    -3.56 0.0574 -7.2436 0.1236  False\n",
            "---------------------------------------------------\n"
          ],
          "name": "stdout"
        }
      ]
    },
    {
      "cell_type": "markdown",
      "metadata": {
        "id": "hYMkHyHsPMK3",
        "colab_type": "text"
      },
      "source": [
        "# resampling"
      ]
    },
    {
      "cell_type": "markdown",
      "metadata": {
        "id": "Rsv1mpGDPfdI",
        "colab_type": "text"
      },
      "source": [
        "## remember this?"
      ]
    },
    {
      "cell_type": "code",
      "metadata": {
        "id": "Z17vBMg3PFU0",
        "colab_type": "code",
        "outputId": "125af9d3-19b5-4ae2-fb39-4d52f9b0657e",
        "colab": {
          "base_uri": "https://localhost:8080/",
          "height": 282
        }
      },
      "source": [
        "mean = 117\n",
        "n_samples = 78\n",
        "np.random.seed(12345)\n",
        "samples = np.random.exponential(scale = mean, size = n_samples)\n",
        "fig,ax = plt.subplots(figsize = (8,4))\n",
        "_ = ax.hist(samples,bins = 5,alpha = 0.7,color = 'blue')\n",
        "_ = ax.axvline(samples.mean(),linestyle = '--',color = 'black',alpha = 1.,label = f'mean = {samples.mean():.4f}')\n",
        "_ = ax.axvspan(samples.mean() - samples.std()/np.sqrt(n_samples),\n",
        "               samples.mean() + samples.std() / np.sqrt(n_samples), \n",
        "               color = 'red', alpha = 0.7,label = f'standard error = {samples.std() / np.sqrt(n_samples):.4f}')\n",
        "_ = ax.legend()\n",
        "print(stats.ttest_1samp(samples,100))"
      ],
      "execution_count": 0,
      "outputs": [
        {
          "output_type": "stream",
          "text": [
            "Ttest_1sampResult(statistic=2.2858733668219404, pvalue=0.025012543966142314)\n"
          ],
          "name": "stdout"
        },
        {
          "output_type": "display_data",
          "data": {
            "image/png": "[encoded data removed]",
            "text/plain": [
              "<Figure size 576x288 with 1 Axes>"
            ]
          },
          "metadata": {
            "tags": []
          }
        }
      ]
    },
    {
      "cell_type": "code",
      "metadata": {
        "id": "808TgPNcPg7t",
        "colab_type": "code",
        "colab": {}
      },
      "source": [
        "n_sim = 1000\n",
        "results = []\n",
        "for _ in range(n_sim):\n",
        "    resampled = np.random.choice(samples,\n",
        "                                 size = n_samples,\n",
        "                                 replace = True, #\n",
        "                                 )\n",
        "    resampled_mean = resampled.mean()\n",
        "    results.append(resampled_mean)\n",
        "results = np.array(results)"
      ],
      "execution_count": 0,
      "outputs": []
    },
    {
      "cell_type": "code",
      "metadata": {
        "id": "QCwEGzn4P_fm",
        "colab_type": "code",
        "outputId": "aff7f733-ba1f-4614-c951-caf86641affc",
        "colab": {
          "base_uri": "https://localhost:8080/",
          "height": 375
        }
      },
      "source": [
        "fig,ax = plt.subplots(figsize = (8,6))\n",
        "_ = ax.hist(results,color = 'blue',bins = 25,alpha = 0.4)\n",
        "_ = ax.axvline(100,linestyle = '--',color = 'black',label = 'what we want to compare against to')\n",
        "_ = ax.axvline(mean,linestyle = '--',color = 'red',label = f'true mean = {mean:.4f}')\n",
        "_ = ax.axvline(results.mean(),linestyle = '--',color = 'blue',label = f'average of resampled means = {results.mean():.4f}')\n",
        "_ = ax.axvline(samples.mean(),linestyle = '--',color = 'yellow',label = f'sample mean = {samples.mean():.4f}')\n",
        "_ = ax.legend()"
      ],
      "execution_count": 0,
      "outputs": [
        {
          "output_type": "display_data",
          "data": {
            "image/png": "[encoded data removed]",
            "text/plain": [
              "<Figure size 576x432 with 1 Axes>"
            ]
          },
          "metadata": {
            "tags": []
          }
        }
      ]
    },
    {
      "cell_type": "code",
      "metadata": {
        "id": "q2uWndDiP_5P",
        "colab_type": "code",
        "outputId": "9f40d0b0-2220-4f4a-f50f-3f81d3d09325",
        "colab": {
          "base_uri": "https://localhost:8080/",
          "height": 34
        }
      },
      "source": [
        "p = (np.sum(results < mean) + 1) / (n_sim + 1)\n",
        "p / 2"
      ],
      "execution_count": 0,
      "outputs": [
        {
          "output_type": "execute_result",
          "data": {
            "text/plain": [
              "0.07642357642357642"
            ]
          },
          "metadata": {
            "tags": []
          },
          "execution_count": 203
        }
      ]
    },
    {
      "cell_type": "markdown",
      "metadata": {
        "id": "7847bhjzTNd2",
        "colab_type": "text"
      },
      "source": [
        "## and this?"
      ]
    },
    {
      "cell_type": "code",
      "metadata": {
        "id": "6pHc2ytMS-gl",
        "colab_type": "code",
        "outputId": "3d477c72-074f-46d1-e0ce-e65e6592c33a",
        "colab": {
          "base_uri": "https://localhost:8080/",
          "height": 283
        }
      },
      "source": [
        "sample_mean1 = 0.52\n",
        "sample_mean2 = 1.03\n",
        "sample_sd1 = 0.15 * 5\n",
        "sample_sd2 = 0.15 #\n",
        "sample_size1 = 30\n",
        "sample_size2 = 60 #\n",
        "\n",
        "np.random.seed(12345)\n",
        "samples1 = np.random.normal(sample_mean1,sample_sd1,sample_size1)\n",
        "samples2 = np.random.normal(sample_mean2,sample_sd2,sample_size2)\n",
        "\n",
        "fig,ax = plt.subplots(figsize = (8,4))\n",
        "_ = ax.hist(samples1,color = 'red',label='sample1',alpha = 0.4)\n",
        "_ = ax.hist(samples2,color = 'blue',label='sample2',alpha = 0.4)\n",
        "\n",
        "_ = ax.axvline(samples1.mean(),linestyle = '--',color = 'red',alpha = 1.,label = f'mean = {samples1.mean():.4f}')\n",
        "_ = ax.axvspan(samples1.mean() - samples1.std()/np.sqrt(sample_size1),\n",
        "               samples1.mean() + samples1.std() / np.sqrt(sample_size1), \n",
        "               color = 'red', alpha = 0.7,label = f'standard error = {samples1.std() / np.sqrt(sample_size1):.4f}')\n",
        "\n",
        "_ = ax.axvline(samples2.mean(),linestyle = '--',color = 'blue',alpha = 1.,label = f'mean = {samples2.mean():.4f}')\n",
        "_ = ax.axvspan(samples2.mean() - samples2.std()/np.sqrt(sample_size2),\n",
        "               samples2.mean() + samples2.std() / np.sqrt(sample_size2), \n",
        "               color = 'blue', alpha = 0.7,label = f'standard error = {samples2.std() / np.sqrt(sample_size2):.4f}')\n",
        "_ = ax.legend()\n",
        "\n",
        "print(stats.ttest_ind(samples1,samples2,equal_var=False))"
      ],
      "execution_count": 0,
      "outputs": [
        {
          "output_type": "stream",
          "text": [
            "Ttest_indResult(statistic=-1.5454099912243922, pvalue=0.1327234442423455)\n"
          ],
          "name": "stdout"
        },
        {
          "output_type": "display_data",
          "data": {
            "image/png": "[encoded data removed]",
            "text/plain": [
              "<Figure size 576x288 with 1 Axes>"
            ]
          },
          "metadata": {
            "tags": []
          }
        }
      ]
    },
    {
      "cell_type": "code",
      "metadata": {
        "id": "BUCm6ZoQtLfh",
        "colab_type": "code",
        "colab": {}
      },
      "source": [
        "np.random.seed(12345)\n",
        "diffs = []\n",
        "for _ in range(100):\n",
        "    group1_ = np.random.choice(samples1,size = 1000, replace = True)\n",
        "    group2_ = np.random.choice(samples2,size = 1000, replace = True)\n",
        "\n",
        "    diff = group1_.mean() - group2_.mean()\n",
        "    diffs.append(diff)\n",
        "diffs = np.array(diffs)"
      ],
      "execution_count": 0,
      "outputs": []
    },
    {
      "cell_type": "code",
      "metadata": {
        "id": "BnA_0tj4t-MX",
        "colab_type": "code",
        "outputId": "3016d0c5-016a-4a0e-cb22-4d74df1d1f2a",
        "colab": {
          "base_uri": "https://localhost:8080/",
          "height": 353
        }
      },
      "source": [
        "plt.hist(diffs)"
      ],
      "execution_count": 0,
      "outputs": [
        {
          "output_type": "execute_result",
          "data": {
            "text/plain": [
              "(array([ 2.,  1.,  5., 11., 11., 22., 18., 13., 13.,  4.]),\n",
              " array([-0.30468451, -0.29166492, -0.27864533, -0.26562574, -0.25260615,\n",
              "        -0.23958656, -0.22656697, -0.21354738, -0.20052779, -0.18750819,\n",
              "        -0.1744886 ]),\n",
              " <a list of 10 Patch objects>)"
            ]
          },
          "metadata": {
            "tags": []
          },
          "execution_count": 16
        },
        {
          "output_type": "display_data",
          "data": {
            "image/png": "[encoded data removed]",
            "text/plain": [
              "<Figure size 432x288 with 1 Axes>"
            ]
          },
          "metadata": {
            "tags": []
          }
        }
      ]
    },
    {
      "cell_type": "code",
      "metadata": {
        "id": "N347AJgpTUhi",
        "colab_type": "code",
        "colab": {}
      },
      "source": [
        "mean_difference_between_samples = samples1.mean() - samples2.mean()\n",
        "\n",
        "pool = np.concatenate([samples1,samples2])\n",
        "np.random.seed(12345)\n",
        "results = []\n",
        "for _ in range(n_sim):\n",
        "    np.random.shuffle(pool)\n",
        "    new_samples1 = pool[:samples1.shape[0]]\n",
        "    new_samples2 = pool[samples1.shape[0]:]\n",
        "\n",
        "    new_mean_difference_between_samples = new_samples1.mean() - new_samples2.mean()\n",
        "    results.append(new_mean_difference_between_samples)\n",
        "results = np.array(results)"
      ],
      "execution_count": 0,
      "outputs": []
    },
    {
      "cell_type": "code",
      "metadata": {
        "id": "9xmyQEMrT1JM",
        "colab_type": "code",
        "outputId": "31715e32-e5fb-4e5c-fe52-c7542d946913",
        "colab": {
          "base_uri": "https://localhost:8080/",
          "height": 374
        }
      },
      "source": [
        "fig,ax = plt.subplots(figsize = (8,6))\n",
        "_ = ax.hist(results,bins = 25,alpha = 0.4,color = 'blue')\n",
        "_ = ax.axvline(mean_difference_between_samples,linestyle = '--', color = 'black',label = 'experiment difference')\n",
        "\n",
        "_ = ax.legend()"
      ],
      "execution_count": 0,
      "outputs": [
        {
          "output_type": "display_data",
          "data": {
            "image/png": "[encoded data removed]",
            "text/plain": [
              "<Figure size 576x432 with 1 Axes>"
            ]
          },
          "metadata": {
            "tags": []
          }
        }
      ]
    },
    {
      "cell_type": "code",
      "metadata": {
        "id": "a6Na2hO_UYUp",
        "colab_type": "code",
        "outputId": "5066e5ac-6e23-4ec0-dc09-34384f7dff99",
        "colab": {
          "base_uri": "https://localhost:8080/",
          "height": 34
        }
      },
      "source": [
        "p = (np.sum(results < mean_difference_between_samples) + 1) / (n_sim + 1)\n",
        "p / 2"
      ],
      "execution_count": 0,
      "outputs": [
        {
          "output_type": "execute_result",
          "data": {
            "text/plain": [
              "0.01048951048951049"
            ]
          },
          "metadata": {
            "tags": []
          },
          "execution_count": 207
        }
      ]
    },
    {
      "cell_type": "code",
      "metadata": {
        "id": "2Xmx9I_BUwSV",
        "colab_type": "code",
        "colab": {}
      },
      "source": [
        "np.random.seed(12345)\n",
        "responses = np.random.choice([0,1],size = 25, )\n",
        "corrects = np.random.choice([0,1],size = 25)"
      ],
      "execution_count": 0,
      "outputs": []
    },
    {
      "cell_type": "code",
      "metadata": {
        "id": "GTFDL7YEuoM3",
        "colab_type": "code",
        "outputId": "513be6c6-6c44-4a5c-da06-45d0571469a5",
        "colab": {
          "base_uri": "https://localhost:8080/",
          "height": 35
        }
      },
      "source": [
        "performance = np.sum(responses == corrects) / len(responses)\n",
        "print(performance)"
      ],
      "execution_count": 0,
      "outputs": [
        {
          "output_type": "stream",
          "text": [
            "0.6\n"
          ],
          "name": "stdout"
        }
      ]
    },
    {
      "cell_type": "code",
      "metadata": {
        "id": "nQaciqeJvfe2",
        "colab_type": "code",
        "outputId": "ff6ebcf8-53d5-4783-a2f6-13ec8978d14e",
        "colab": {
          "base_uri": "https://localhost:8080/",
          "height": 819
        }
      },
      "source": [
        "import pandas as pd\n",
        "\n",
        "df = pd.DataFrame(np.vstack([responses,corrects]).T,columns = ['response','corrects'])\n",
        "df"
      ],
      "execution_count": 0,
      "outputs": [
        {
          "output_type": "execute_result",
          "data": {
            "text/html": [
              "<div>\n",
              "<style scoped>\n",
              "    .dataframe tbody tr th:only-of-type {\n",
              "        vertical-align: middle;\n",
              "    }\n",
              "\n",
              "    .dataframe tbody tr th {\n",
              "        vertical-align: top;\n",
              "    }\n",
              "\n",
              "    .dataframe thead th {\n",
              "        text-align: right;\n",
              "    }\n",
              "</style>\n",
              "<table border=\"1\" class=\"dataframe\">\n",
              "  <thead>\n",
              "    <tr style=\"text-align: right;\">\n",
              "      <th></th>\n",
              "      <th>response</th>\n",
              "      <th>corrects</th>\n",
              "    </tr>\n",
              "  </thead>\n",
              "  <tbody>\n",
              "    <tr>\n",
              "      <th>0</th>\n",
              "      <td>0</td>\n",
              "      <td>0</td>\n",
              "    </tr>\n",
              "    <tr>\n",
              "      <th>1</th>\n",
              "      <td>1</td>\n",
              "      <td>1</td>\n",
              "    </tr>\n",
              "    <tr>\n",
              "      <th>2</th>\n",
              "      <td>1</td>\n",
              "      <td>0</td>\n",
              "    </tr>\n",
              "    <tr>\n",
              "      <th>3</th>\n",
              "      <td>1</td>\n",
              "      <td>0</td>\n",
              "    </tr>\n",
              "    <tr>\n",
              "      <th>4</th>\n",
              "      <td>0</td>\n",
              "      <td>1</td>\n",
              "    </tr>\n",
              "    <tr>\n",
              "      <th>5</th>\n",
              "      <td>1</td>\n",
              "      <td>1</td>\n",
              "    </tr>\n",
              "    <tr>\n",
              "      <th>6</th>\n",
              "      <td>0</td>\n",
              "      <td>1</td>\n",
              "    </tr>\n",
              "    <tr>\n",
              "      <th>7</th>\n",
              "      <td>0</td>\n",
              "      <td>1</td>\n",
              "    </tr>\n",
              "    <tr>\n",
              "      <th>8</th>\n",
              "      <td>1</td>\n",
              "      <td>1</td>\n",
              "    </tr>\n",
              "    <tr>\n",
              "      <th>9</th>\n",
              "      <td>0</td>\n",
              "      <td>0</td>\n",
              "    </tr>\n",
              "    <tr>\n",
              "      <th>10</th>\n",
              "      <td>1</td>\n",
              "      <td>1</td>\n",
              "    </tr>\n",
              "    <tr>\n",
              "      <th>11</th>\n",
              "      <td>1</td>\n",
              "      <td>1</td>\n",
              "    </tr>\n",
              "    <tr>\n",
              "      <th>12</th>\n",
              "      <td>0</td>\n",
              "      <td>1</td>\n",
              "    </tr>\n",
              "    <tr>\n",
              "      <th>13</th>\n",
              "      <td>1</td>\n",
              "      <td>1</td>\n",
              "    </tr>\n",
              "    <tr>\n",
              "      <th>14</th>\n",
              "      <td>1</td>\n",
              "      <td>1</td>\n",
              "    </tr>\n",
              "    <tr>\n",
              "      <th>15</th>\n",
              "      <td>0</td>\n",
              "      <td>1</td>\n",
              "    </tr>\n",
              "    <tr>\n",
              "      <th>16</th>\n",
              "      <td>1</td>\n",
              "      <td>0</td>\n",
              "    </tr>\n",
              "    <tr>\n",
              "      <th>17</th>\n",
              "      <td>1</td>\n",
              "      <td>0</td>\n",
              "    </tr>\n",
              "    <tr>\n",
              "      <th>18</th>\n",
              "      <td>1</td>\n",
              "      <td>1</td>\n",
              "    </tr>\n",
              "    <tr>\n",
              "      <th>19</th>\n",
              "      <td>0</td>\n",
              "      <td>1</td>\n",
              "    </tr>\n",
              "    <tr>\n",
              "      <th>20</th>\n",
              "      <td>0</td>\n",
              "      <td>0</td>\n",
              "    </tr>\n",
              "    <tr>\n",
              "      <th>21</th>\n",
              "      <td>0</td>\n",
              "      <td>0</td>\n",
              "    </tr>\n",
              "    <tr>\n",
              "      <th>22</th>\n",
              "      <td>1</td>\n",
              "      <td>1</td>\n",
              "    </tr>\n",
              "    <tr>\n",
              "      <th>23</th>\n",
              "      <td>1</td>\n",
              "      <td>1</td>\n",
              "    </tr>\n",
              "    <tr>\n",
              "      <th>24</th>\n",
              "      <td>1</td>\n",
              "      <td>1</td>\n",
              "    </tr>\n",
              "  </tbody>\n",
              "</table>\n",
              "</div>"
            ],
            "text/plain": [
              "    response  corrects\n",
              "0          0         0\n",
              "1          1         1\n",
              "2          1         0\n",
              "3          1         0\n",
              "4          0         1\n",
              "5          1         1\n",
              "6          0         1\n",
              "7          0         1\n",
              "8          1         1\n",
              "9          0         0\n",
              "10         1         1\n",
              "11         1         1\n",
              "12         0         1\n",
              "13         1         1\n",
              "14         1         1\n",
              "15         0         1\n",
              "16         1         0\n",
              "17         1         0\n",
              "18         1         1\n",
              "19         0         1\n",
              "20         0         0\n",
              "21         0         0\n",
              "22         1         1\n",
              "23         1         1\n",
              "24         1         1"
            ]
          },
          "metadata": {
            "tags": []
          },
          "execution_count": 30
        }
      ]
    },
    {
      "cell_type": "code",
      "metadata": {
        "id": "uvt8bDJnwoGT",
        "colab_type": "code",
        "outputId": "5673294f-cde5-406f-d0db-c471dcb37f31",
        "colab": {
          "base_uri": "https://localhost:8080/",
          "height": 123
        }
      },
      "source": [
        "np.arange(len(responses))"
      ],
      "execution_count": 0,
      "outputs": [
        {
          "output_type": "execute_result",
          "data": {
            "text/plain": [
              "array([ 0,  1,  2,  3,  4,  5,  6,  7,  8,  9, 10, 11, 12, 13, 14, 15, 16,\n",
              "       17, 18, 19, 20, 21, 22, 23, 24, 25, 26, 27, 28, 29, 30, 31, 32, 33,\n",
              "       34, 35, 36, 37, 38, 39, 40, 41, 42, 43, 44, 45, 46, 47, 48, 49, 50,\n",
              "       51, 52, 53, 54, 55, 56, 57, 58, 59, 60, 61, 62, 63, 64, 65, 66, 67,\n",
              "       68, 69, 70, 71, 72, 73, 74, 75, 76, 77, 78, 79, 80, 81, 82, 83, 84,\n",
              "       85, 86, 87, 88, 89, 90, 91, 92, 93, 94, 95, 96, 97, 98, 99])"
            ]
          },
          "metadata": {
            "tags": []
          },
          "execution_count": 23
        }
      ]
    },
    {
      "cell_type": "code",
      "metadata": {
        "id": "W5cAkjBXw2Ev",
        "colab_type": "code",
        "outputId": "8f113d96-68b6-4dcf-fe2b-2ab2d175f3c2",
        "colab": {
          "base_uri": "https://localhost:8080/",
          "height": 35
        }
      },
      "source": [
        "range(len(responses))"
      ],
      "execution_count": 0,
      "outputs": [
        {
          "output_type": "execute_result",
          "data": {
            "text/plain": [
              "range(0, 100)"
            ]
          },
          "metadata": {
            "tags": []
          },
          "execution_count": 24
        }
      ]
    },
    {
      "cell_type": "code",
      "metadata": {
        "id": "UPs57Srtuwd3",
        "colab_type": "code",
        "colab": {}
      },
      "source": [
        "res = []\n",
        "for _ in range(100):\n",
        "    idx = np.random.choice(np.arange(len(responses)),size = 1000, replace = True)\n",
        "    reps = responses[idx]\n",
        "    corr = corrects[idx]\n",
        "    res.append( np.sum(reps == corr) / 1000)\n",
        "res = np.array(res)"
      ],
      "execution_count": 0,
      "outputs": []
    },
    {
      "cell_type": "code",
      "metadata": {
        "id": "zF8pwMlIvRml",
        "colab_type": "code",
        "outputId": "a96c65d8-deee-4e16-d2a6-9790d236e64b",
        "colab": {
          "base_uri": "https://localhost:8080/",
          "height": 283
        }
      },
      "source": [
        "plt.hist(res,alpha = 0.3)\n",
        "plt.axvline(res.mean())"
      ],
      "execution_count": 0,
      "outputs": [
        {
          "output_type": "execute_result",
          "data": {
            "text/plain": [
              "<matplotlib.lines.Line2D at 0x7f56cf38ddd8>"
            ]
          },
          "metadata": {
            "tags": []
          },
          "execution_count": 32
        },
        {
          "output_type": "display_data",
          "data": {
            "image/png": "[encoded data removed]",
            "text/plain": [
              "<Figure size 432x288 with 1 Axes>"
            ]
          },
          "metadata": {
            "tags": []
          }
        }
      ]
    },
    {
      "cell_type": "code",
      "metadata": {
        "id": "CZYjvBTUxL0Y",
        "colab_type": "code",
        "colab": {}
      },
      "source": [
        ""
      ],
      "execution_count": 0,
      "outputs": []
    }
  ]
}
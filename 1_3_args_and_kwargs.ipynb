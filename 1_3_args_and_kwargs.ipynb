{
  "nbformat": 4,
  "nbformat_minor": 0,
  "metadata": {
    "colab": {
      "name": "1.3.*args and ***kwargs.ipynb",
      "provenance": [],
      "collapsed_sections": [],
      "authorship_tag": "ABX9TyOzXexjJA0MQvqgQ1hyUxFM",
      "include_colab_link": true
    },
    "kernelspec": {
      "name": "python3",
      "display_name": "Python 3"
    }
  },
  "cells": [
    {
      "cell_type": "markdown",
      "metadata": {
        "id": "view-in-github",
        "colab_type": "text"
      },
      "source": [
        "<a href=\"https://colab.research.google.com/github/nmningmei/LevelUpPythonTutorial/blob/master/1_3_args_and_kwargs.ipynb\" target=\"_parent\"><img src=\"https://colab.research.google.com/assets/colab-badge.svg\" alt=\"Open In Colab\"/></a>"
      ]
    },
    {
      "cell_type": "markdown",
      "metadata": {
        "id": "hh6y5JdpIRQF",
        "colab_type": "text"
      },
      "source": [
        "# *args"
      ]
    },
    {
      "cell_type": "code",
      "metadata": {
        "id": "cxUcWls-HfiF",
        "colab_type": "code",
        "outputId": "d746d4d1-caa5-44a6-a6a8-0e382ccb35ed",
        "colab": {
          "base_uri": "https://localhost:8080/",
          "height": 34
        }
      },
      "source": [
        "def func(a,b,c,d):\n",
        "    return a,b,c,d\n",
        "\n",
        "a,b,c,d = 1,2,3,4\n",
        "\n",
        "func(a,b,c,d)"
      ],
      "execution_count": 0,
      "outputs": [
        {
          "output_type": "execute_result",
          "data": {
            "text/plain": [
              "(1, 2, 3, 4)"
            ]
          },
          "metadata": {
            "tags": []
          },
          "execution_count": 1
        }
      ]
    },
    {
      "cell_type": "code",
      "metadata": {
        "id": "wl6lYAmZIblf",
        "colab_type": "code",
        "outputId": "ff54ee32-d9b1-4dc9-e938-cb7b3a77840f",
        "colab": {
          "base_uri": "https://localhost:8080/",
          "height": 34
        }
      },
      "source": [
        "inputs = [1,2,3,4]\n",
        "func(*inputs)"
      ],
      "execution_count": 0,
      "outputs": [
        {
          "output_type": "execute_result",
          "data": {
            "text/plain": [
              "(1, 2, 3, 4)"
            ]
          },
          "metadata": {
            "tags": []
          },
          "execution_count": 2
        }
      ]
    },
    {
      "cell_type": "markdown",
      "metadata": {
        "id": "a-pZWLxSIkGT",
        "colab_type": "text"
      },
      "source": [
        "# **kwargs"
      ]
    },
    {
      "cell_type": "code",
      "metadata": {
        "id": "mIirKxpWIh8W",
        "colab_type": "code",
        "outputId": "cba4e35a-da3e-4c85-db47-aab9c8333405",
        "colab": {
          "base_uri": "https://localhost:8080/",
          "height": 34
        }
      },
      "source": [
        "inputs = dict(a = 2,\n",
        "              b = 1,\n",
        "              c = 4,\n",
        "              d = 3,)\n",
        "func(**inputs)"
      ],
      "execution_count": 0,
      "outputs": [
        {
          "output_type": "execute_result",
          "data": {
            "text/plain": [
              "(2, 1, 4, 3)"
            ]
          },
          "metadata": {
            "tags": []
          },
          "execution_count": 3
        }
      ]
    },
    {
      "cell_type": "code",
      "metadata": {
        "id": "JUX9Ia1ZIrxQ",
        "colab_type": "code",
        "colab": {}
      },
      "source": [
        ""
      ],
      "execution_count": 0,
      "outputs": []
    }
  ]
}
{
  "nbformat": 4,
  "nbformat_minor": 0,
  "metadata": {
    "colab": {
      "name": "2.0 Pandas - redirect you to pandas.ipynb",
      "version": "0.3.2",
      "provenance": [],
      "collapsed_sections": [],
      "include_colab_link": true
    },
    "kernelspec": {
      "name": "python3",
      "display_name": "Python 3"
    }
  },
  "cells": [
    {
      "cell_type": "markdown",
      "metadata": {
        "id": "view-in-github",
        "colab_type": "text"
      },
      "source": [
        "<a href=\"https://colab.research.google.com/github/adowaconan/LevelUpPythonTutorial/blob/master/2_0_Pandas_redirect_you_to_pandas.ipynb\" target=\"_parent\"><img src=\"https://colab.research.google.com/assets/colab-badge.svg\" alt=\"Open In Colab\"/></a>"
      ]
    },
    {
      "metadata": {
        "id": "Kg3VaF-uWWi8",
        "colab_type": "text"
      },
      "cell_type": "markdown",
      "source": [
        "#[ No support for Python 2 after 2020](http://pandas.pydata.org/pandas-docs/stable/install.html#plan-for-dropping-python-2-7)"
      ]
    },
    {
      "metadata": {
        "id": "-DxuqEDIWcWN",
        "colab_type": "text"
      },
      "cell_type": "markdown",
      "source": [
        "# [No one can write a better tutorial than the people at Pandas](http://pandas.pydata.org/pandas-docs/stable/getting_started/10min.html)"
      ]
    },
    {
      "metadata": {
        "id": "C3sbAvVPpZ9K",
        "colab_type": "code",
        "colab": {}
      },
      "cell_type": "code",
      "source": [
        ""
      ],
      "execution_count": 0,
      "outputs": []
    }
  ]
}
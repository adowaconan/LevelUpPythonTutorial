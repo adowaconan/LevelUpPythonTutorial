{
  "nbformat": 4,
  "nbformat_minor": 0,
  "metadata": {
    "colab": {
      "name": "1.30.2.parallelize simple for-loop.ipynb",
      "provenance": [],
      "collapsed_sections": [],
      "include_colab_link": true
    },
    "kernelspec": {
      "name": "python3",
      "display_name": "Python 3"
    }
  },
  "cells": [
    {
      "cell_type": "markdown",
      "metadata": {
        "id": "view-in-github",
        "colab_type": "text"
      },
      "source": [
        "<a href=\"https://colab.research.google.com/github/nmningmei/LevelUpPythonTutorial/blob/master/1_30_2_parallelize_simple_for_loop.ipynb\" target=\"_parent\"><img src=\"https://colab.research.google.com/assets/colab-badge.svg\" alt=\"Open In Colab\"/></a>"
      ]
    },
    {
      "cell_type": "code",
      "metadata": {
        "id": "JNllrmpWLn-B",
        "colab_type": "code",
        "colab": {}
      },
      "source": [
        "import numpy as np\n",
        "import pandas as pd\n",
        "import seaborn as sns\n",
        "from matplotlib import pyplot as plt\n",
        "from tqdm import tqdm"
      ],
      "execution_count": 0,
      "outputs": []
    },
    {
      "cell_type": "code",
      "metadata": {
        "id": "1wAdb7OpLr70",
        "colab_type": "code",
        "colab": {}
      },
      "source": [
        "np.random.seed(12345)\n",
        "samples = np.random.exponential(1.5,size = (15,60))"
      ],
      "execution_count": 0,
      "outputs": []
    },
    {
      "cell_type": "code",
      "metadata": {
        "id": "-k6ABANzL4iK",
        "colab_type": "code",
        "outputId": "6772435e-7abc-44b8-c66a-2668da7f9e9c",
        "colab": {
          "base_uri": "https://localhost:8080/",
          "height": 626
        }
      },
      "source": [
        "df = pd.DataFrame(samples.T,columns = [f'sub{ii+1}' for ii in range(samples.shape[0])])\n",
        "df_plot = pd.melt(df,value_vars = df.columns)\n",
        "fig,ax = plt.subplots(figsize = (15,10))\n",
        "ax = sns.barplot(x = 'variable',\n",
        "                 y = 'value',\n",
        "                 data = df_plot,\n",
        "                 ax = ax,)\n",
        "ax.set(xlabel = 'subjects',ylabel = 'Reaction Time (sec)')\n",
        "ax.axhline(1.,linestyle = '--',color = 'black',)"
      ],
      "execution_count": 0,
      "outputs": [
        {
          "output_type": "execute_result",
          "data": {
            "text/plain": [
              "<matplotlib.lines.Line2D at 0x7f9be9da1550>"
            ]
          },
          "metadata": {
            "tags": []
          },
          "execution_count": 47
        },
        {
          "output_type": "display_data",
          "data": {
            "image/png": "[encoded data removed]",
            "text/plain": [
              "<Figure size 1080x720 with 1 Axes>"
            ]
          },
          "metadata": {
            "tags": []
          }
        }
      ]
    },
    {
      "cell_type": "code",
      "metadata": {
        "id": "YzIfb_VhKcGQ",
        "colab_type": "code",
        "colab": {}
      },
      "source": [
        "def resample_ttest(x,baseline = 0.5,n_ps = 100,n_permutation = 10000,one_tail = False,\n",
        "                   n_jobs = -1, verbose = 0,super_computer = False,):\n",
        "    \"\"\"\n",
        "    http://www.stat.ucla.edu/~rgould/110as02/bshypothesis.pdf\n",
        "    https://www.tau.ac.il/~saharon/StatisticsSeminar_files/Hypothesis.pdf\n",
        "    Inputs:\n",
        "    ----------\n",
        "    x: numpy array vector, the data that is to be compared\n",
        "    baseline: the single point that we compare the data with\n",
        "    n_ps: number of p values we want to estimate\n",
        "    one_tail: whether to perform one-tailed comparison\n",
        "    \"\"\"\n",
        "    import numpy as np\n",
        "    # t statistics with the original data distribution\n",
        "    t_experiment = (np.mean(x) - baseline) / (np.std(x) / np.sqrt(x.shape[0]))\n",
        "    null            = x - np.mean(x) + baseline # shift the mean to the baseline but keep the distribution\n",
        "    if super_computer:\n",
        "        temp = np.random.choice(null,size = (null.shape[0],int(n_permutation),int(n_ps)))\n",
        "        temp = temp.mean(0)\n",
        "        ps = (np.sum(temp >= t_experiment,axis = 0) + 1) / (int(n_permutation) + 1)\n",
        "    else:\n",
        "        from joblib import Parallel,delayed\n",
        "        import gc\n",
        "        gc.collect()\n",
        "        def t_statistics(null,size,):\n",
        "            \"\"\"\n",
        "            null: shifted data distribution\n",
        "            size: tuple of 2 integers (n_for_averaging,n_permutation)\n",
        "            \"\"\"\n",
        "            null_dist = np.random.choice(null,size = size,replace = True)\n",
        "            t_null = (np.mean(null_dist,0) - baseline) / (np.std(null_dist,0) / np.sqrt(null_dist.shape[0]))\n",
        "            if one_tail:\n",
        "                return ((np.sum(t_null >= t_experiment)) + 1) / (size[1] + 1)\n",
        "            else:\n",
        "                return ((np.sum(np.abs(t_null) >= np.abs(t_experiment))) + 1) / (size[1] + 1) /2\n",
        "        ps = Parallel(n_jobs = n_jobs,verbose = verbose)(delayed(t_statistics)(**{\n",
        "                        'null':null,\n",
        "                        'size':(null.shape[0],int(n_permutation)),}) for i in range(n_ps))\n",
        "    \n",
        "    return np.array(ps)"
      ],
      "execution_count": 0,
      "outputs": []
    },
    {
      "cell_type": "code",
      "metadata": {
        "id": "Ky9H_5RDOpGN",
        "colab_type": "code",
        "outputId": "af52bf0f-64c6-4830-d7a0-7bcc3c818975",
        "colab": {
          "base_uri": "https://localhost:8080/",
          "height": 34
        }
      },
      "source": [
        "results = dict(sub = [],\n",
        "               ps_mean = [],\n",
        "               ps_std = [],\n",
        "               rt_mean = [],\n",
        "               rt_std = [],)\n",
        "for sub,df_sub in tqdm(df_plot.groupby('variable')):\n",
        "    df_sub\n",
        "    ps = resample_ttest(df_sub['value'].values,baseline = 1., n_ps = 100,n_permutation = int(1e4),one_tail = True, super_computer=True)\n",
        "    results['sub'].append(sub)\n",
        "    results['ps_mean'].append(ps.mean())\n",
        "    results['ps_std'].append(ps.std())\n",
        "    results['rt_mean'].append(df_sub['value'].values.mean())\n",
        "    results['rt_std'].append(df_sub['value'].values.std())\n",
        "results = pd.DataFrame(results)"
      ],
      "execution_count": 0,
      "outputs": [
        {
          "output_type": "stream",
          "text": [
            "100%|██████████| 15/15 [00:07<00:00,  1.95it/s]\n"
          ],
          "name": "stderr"
        }
      ]
    },
    {
      "cell_type": "code",
      "metadata": {
        "id": "I-7SgT7jOuZ8",
        "colab_type": "code",
        "outputId": "ec3f6d72-9206-4e30-968e-8959f4317a6d",
        "colab": {
          "base_uri": "https://localhost:8080/",
          "height": 34
        }
      },
      "source": [
        "results = dict(sub = [],\n",
        "               ps_mean = [],\n",
        "               ps_std = [],\n",
        "               rt_mean = [],\n",
        "               rt_std = [],)\n",
        "for sub,df_sub in tqdm(df_plot.groupby('variable')):\n",
        "    df_sub\n",
        "    ps = resample_ttest(df_sub['value'].values,baseline = 1., n_ps = 100,n_permutation = int(1e4),one_tail = True, super_computer=False,)\n",
        "    results['sub'].append(sub)\n",
        "    results['ps_mean'].append(ps.mean())\n",
        "    results['ps_std'].append(ps.std())\n",
        "    results['rt_mean'].append(df_sub['value'].values.mean())\n",
        "    results['rt_std'].append(df_sub['value'].values.std())\n",
        "results = pd.DataFrame(results)"
      ],
      "execution_count": 0,
      "outputs": [
        {
          "output_type": "stream",
          "text": [
            "100%|██████████| 15/15 [00:11<00:00,  1.34it/s]\n"
          ],
          "name": "stderr"
        }
      ]
    },
    {
      "cell_type": "code",
      "metadata": {
        "id": "HK--ePi3OxYl",
        "colab_type": "code",
        "colab": {}
      },
      "source": [
        ""
      ],
      "execution_count": 0,
      "outputs": []
    }
  ]
}